{
 "cells": [
  {
   "cell_type": "code",
   "execution_count": 1,
   "metadata": {},
   "outputs": [
    {
     "name": "stdout",
     "output_type": "stream",
     "text": [
      "<class 'requests.models.Response'>\n",
      "200\n"
     ]
    }
   ],
   "source": [
    "import requests\n",
    "\n",
    "r = requests.get('http://codezine.jp')\n",
    "print(type(r))\n",
    "print(r.status_code)"
   ]
  },
  {
   "cell_type": "code",
   "execution_count": 2,
   "metadata": {},
   "outputs": [
    {
     "name": "stdout",
     "output_type": "stream",
     "text": [
      "<title>CodeZine（コードジン）</title>\n",
      "<h1><a href=\"/\"><img src=\"//cz-cdn.shoeisha.jp/lib/img/cmn/cmn-header-logo.png\" alt=\"CodeZine（コードジン）\" ></a></h1>\n"
     ]
    }
   ],
   "source": [
    "text = r.text\n",
    "for line in text.split('\\n'):\n",
    "    if '<title>' in line or 'h1' in line:\n",
    "        print(line.strip())"
   ]
  },
  {
   "cell_type": "code",
   "execution_count": 4,
   "metadata": {},
   "outputs": [
    {
     "name": "stdout",
     "output_type": "stream",
     "text": [
      "<title>CodeZine（コードジン）</title>\n",
      "<h1><a href=\"/\"><img alt=\"CodeZine（コードジン）\" src=\"//cz-cdn.shoeisha.jp/lib/img/cmn/cmn-header-logo.png\"/></a></h1>\n",
      "CodeZine（コードジン）\n"
     ]
    }
   ],
   "source": [
    "from bs4 import BeautifulSoup\n",
    "\n",
    "soup = BeautifulSoup(text, 'html.parser')\n",
    "print(soup.title)\n",
    "print(soup.h1)\n",
    "\n",
    "print(soup.h1.a.img['alt'])"
   ]
  },
  {
   "cell_type": "code",
   "execution_count": 6,
   "metadata": {},
   "outputs": [
    {
     "name": "stdout",
     "output_type": "stream",
     "text": [
      "aタグの数： 172\n",
      "タイトル： このページの本文へ移動\n",
      "リンク： #contents\n",
      "タイトル： \n",
      "リンク： /\n",
      "タイトル： ホーム\n",
      "リンク： /\n",
      "タイトル： ニュース\n",
      "リンク： /news/\n",
      "タイトル： 記事\n",
      "リンク： /article/\n"
     ]
    }
   ],
   "source": [
    "atags = soup.find_all('a')\n",
    "print('aタグの数：', len(atags))\n",
    "for atag in atags[:5]:\n",
    "    print('タイトル：', atag.text)\n",
    "    print('リンク：', atag['href'])"
   ]
  },
  {
   "cell_type": "code",
   "execution_count": 10,
   "metadata": {},
   "outputs": [],
   "source": [
    "from datetime import datetime\n",
    "\n",
    "import requests\n",
    "from bs4 import BeautifulSoup\n",
    "\n",
    "r = requests.get('https://codezine.jp/article/tag/223')\n",
    "soup = BeautifulSoup(r.text, 'html.parser')\n",
    "\n",
    "articles = []\n",
    "\n",
    "lis = soup.select('ul.catList > li')\n",
    "for li in lis:\n",
    "    day = li.find('div', class_='day').text.strip()\n",
    "    published = datetime.strptime(day, '%Y/%m/%d')\n",
    "    h2_tag = li.find('h2')\n",
    "    title = h2_tag.text\n",
    "    url = h2_tag.a['href']\n",
    "    \n",
    "    tag_list = li.select('ul.tag > li')\n",
    "    tags = [tag.text.strip() for tag in tag_list]\n",
    "    \n",
    "    article = {\n",
    "        'published': published,\n",
    "        'title': title,\n",
    "        'url': url,\n",
    "        'tags': tags\n",
    "    }\n",
    "    articles.append(article)"
   ]
  },
  {
   "cell_type": "code",
   "execution_count": 11,
   "metadata": {},
   "outputs": [
    {
     "data": {
      "text/plain": [
       "[{'published': datetime.datetime(2020, 8, 21, 0, 0),\n",
       "  'title': '集めたデータをどうやって分析する？ 初心者のための『Python2年生 データ分析のしくみ』発売',\n",
       "  'url': '/article/detail/12660',\n",
       "  'tags': ['Python', 'アプリケーション開発', 'BOOKS']},\n",
       " {'published': datetime.datetime(2020, 8, 20, 0, 0),\n",
       "  'title': 'Webアプリケーションフレームワーク「Django 3.1」公開、非同期処理のサポートが拡大',\n",
       "  'url': '/article/detail/12727',\n",
       "  'tags': ['Python']},\n",
       " {'published': datetime.datetime(2020, 8, 20, 0, 0),\n",
       "  'title': 'データビジュアライゼーションの意義とは？ Pythonでできるグラフとチャートを紹介',\n",
       "  'url': '/article/detail/12646',\n",
       "  'tags': ['Python', 'データテクノロジー', 'BOOKS']}]"
      ]
     },
     "execution_count": 11,
     "metadata": {},
     "output_type": "execute_result"
    }
   ],
   "source": [
    "articles[:3]"
   ]
  },
  {
   "cell_type": "code",
   "execution_count": 12,
   "metadata": {},
   "outputs": [],
   "source": [
    "import pandas as pd\n",
    "\n",
    "df = pd.DataFrame(articles)"
   ]
  },
  {
   "cell_type": "code",
   "execution_count": null,
   "metadata": {},
   "outputs": [],
   "source": []
  }
 ],
 "metadata": {
  "kernelspec": {
   "display_name": "Python 3",
   "language": "python",
   "name": "python3"
  },
  "language_info": {
   "codemirror_mode": {
    "name": "ipython",
    "version": 3
   },
   "file_extension": ".py",
   "mimetype": "text/x-python",
   "name": "python",
   "nbconvert_exporter": "python",
   "pygments_lexer": "ipython3",
   "version": "3.7.6"
  }
 },
 "nbformat": 4,
 "nbformat_minor": 4
}
