{
 "cells": [
  {
   "cell_type": "code",
   "execution_count": 1,
   "metadata": {},
   "outputs": [],
   "source": [
    "# 1.データエンジニアの役割(2, 5.0%)\n",
    "\n",
    "# Pythonの得意とする分野\n",
    "# サーバ系ツール\n",
    "# Webシステムの構築\n",
    "# IoTデバイスの操作\n",
    "# 3Dグラフィックス\n",
    "\n",
    "# Pythonの苦手とする分野\n",
    "# Webアプリなどのフロントエンド\n",
    "# デスクトップGUI\n",
    "# 速度向上などのための低レイヤー処理\n",
    "# 超大規模かつミッションクリティカルな処理\n",
    "\n",
    "# Python以外の選択肢\n",
    "# R言語,Excel,VBA,Java\n",
    "\n",
    "# データサイエンティストとは\n",
    "# 数学、情報工学、対象分野の専門知識(ドメイン知識)、データ分析またはデータ解析の一連の処理及び理解・評価を行える立場の職種\n",
    "\n",
    "# データサイエンティストの役割\n",
    "# モデルやアルゴリズムの構築\n",
    "# 新たな解法や新技術への取り組み(研究分野)\n",
    "# 解決したい課題に向き合う実務(実務)\n",
    "# データとの向き合い方の提示\n",
    "# 分析結果の評価\n",
    "\n",
    "# 機械学習以外の選択肢\n",
    "# ルールベース(if文)\n",
    "# ルールベースではプログラミングの条件分岐の要領でデータを容易にルール化できるが、パラメータの数が増えると記述が困難になる。\n",
    "#　統計的手法\n",
    "# 機械学習と非常に親和性の高いアプローチ\n",
    "\n",
    "# 教師あり学習\n",
    "# 正解ラベルがある(目的変数)　⇄　説明変数(特徴データ、特徴量)\n",
    "# 回帰(目的変数が連続値) Ex.売り上げ、気温\n",
    "# 分類(目的変数が離散値) Ex.二値分類、多値分類\n",
    "\n",
    "# 教師なし学習\n",
    "# 正解ラベルなし\n",
    "# クラスタリング(グルーピングしてデータ間の相関を見つける)\n",
    "# 次元削減(大量なデータの種類(説明変数の次元数)をより少ないデータの種類(次元数)で言い表す)\n",
    "# 主成分分析などを用いて計算しやすい数まで説明変数を減らす\n",
    "\n",
    "# 強化学習\n",
    "# ブラックボックス的な環境の中で行動するエージェントが、得られる報酬を最大化するような状態に応じた行動を学習していく\n",
    "\n",
    "# 学習プロセス\n",
    "# ハイパーパラメータ(各アルゴリズムの実行に必要なパラメータ)の設定\n",
    "\n",
    "# パッケージ\n",
    "\n",
    "# Jupyter Notebook\n",
    "# 実行した結果は.ipynb拡張子で内部をJSONで保持\n",
    "\n",
    "# Numpy(数値計算、配列や行列を効率よく扱える)\n",
    "# 内部はC言語で高速\n",
    "\n",
    "# Pandas(Numpyを基盤としたDataFrame構造)\n",
    "# R言語のデータフレームからインスパイア\n",
    "\n",
    "# Scipy(科学技術計算)\n",
    "# scikit-learnの内部で高度な計算処理に多用\n",
    "# 高度な統計処理や線形代数を扱えたり、フーリエ変換などの処理\n"
   ]
  },
  {
   "cell_type": "code",
   "execution_count": 11,
   "metadata": {},
   "outputs": [
    {
     "data": {
      "text/plain": [
       "'Hello Python'"
      ]
     },
     "execution_count": 11,
     "metadata": {},
     "output_type": "execute_result"
    }
   ],
   "source": [
    "# 2.Pythonと環境(5, 12.5%)\n",
    "\n",
    "# venv環境の作成\n",
    "# python3.6 -m venv 仮想環境名\n",
    "# venv環境の削除\n",
    "# rm -rf 仮想環境名\n",
    "\n",
    "# pipコマンド\n",
    "# pip uninstall (-y) パッケージ名\n",
    "# pip install -U パッケージ名(最新版のパッケージをインストール)\n",
    "# pip list -o(新しいバージョンのあるパッケージ一覧)\n",
    "# pip freeze > requirements.txt\n",
    "# pip install -r requirements.txt\n",
    "\n",
    "# Pythonの基礎\n",
    "\n",
    "# コーディング規約(PEP8)\n",
    "# pycodestyle(PEP8のチェックツール)\n",
    "# Flake8(論理的なチェック(定義したが使用していない変数、importして使用していないモジュール))\n",
    "\n",
    "# IPythonの特徴\n",
    "# オブジェクトの後ろに？を付けると、オブジェクトの説明を表示\n",
    "# %ではじまるマジックコマンド(Ex. %timeit, %%timeit)\n",
    "# !でよるシェルコマンドの実行\n",
    "\n",
    "# 基本文法\n",
    "\n",
    "# []はリスト内包　⇄　{}はセット内包\n",
    "# {}&key:valueで辞書内表記\n",
    "names = ['spam', 'ham', 'eggs']\n",
    "{name: len(name) for name in names}"
   ]
  },
  {
   "cell_type": "code",
   "execution_count": 12,
   "metadata": {},
   "outputs": [
    {
     "data": {
      "text/plain": [
       "(0, 1, 4)"
      ]
     },
     "execution_count": 12,
     "metadata": {},
     "output_type": "execute_result"
    }
   ],
   "source": [
    "# ジェネレーター式\n",
    "g = (x*x for x in range(10000))\n",
    "type(g)\n",
    "next(g), next(g), next(g)"
   ]
  },
  {
   "cell_type": "code",
   "execution_count": 13,
   "metadata": {},
   "outputs": [
    {
     "data": {
      "text/plain": [
       "'Hello Python'"
      ]
     },
     "execution_count": 13,
     "metadata": {},
     "output_type": "execute_result"
    }
   ],
   "source": [
    "s1 = 'hello python'\n",
    "s1.title()"
   ]
  },
  {
   "cell_type": "code",
   "execution_count": 14,
   "metadata": {},
   "outputs": [
    {
     "data": {
      "text/plain": [
       "['spam', 'ham', 'eggs']"
      ]
     },
     "execution_count": 14,
     "metadata": {},
     "output_type": "execute_result"
    }
   ],
   "source": [
    "s2 = ' spam  ham       eggs        '\n",
    "s2.split() # 文字列の空白部分で分割"
   ]
  },
  {
   "cell_type": "code",
   "execution_count": 16,
   "metadata": {},
   "outputs": [
    {
     "data": {
      "text/plain": [
       "'spam  ham       eggs'"
      ]
     },
     "execution_count": 16,
     "metadata": {},
     "output_type": "execute_result"
    }
   ],
   "source": [
    "s2.strip() # 左右の空白文字を削除"
   ]
  },
  {
   "cell_type": "code",
   "execution_count": null,
   "metadata": {},
   "outputs": [],
   "source": [
    "# pickleモジュール\n",
    "# Pythonのオブジェクトを直列化してファイルなどで読み書きできるようになる\n",
    "\n",
    "# デフォルトではログレベルはWARINING(警告)以上が出力される"
   ]
  },
  {
   "cell_type": "code",
   "execution_count": 3,
   "metadata": {},
   "outputs": [],
   "source": [
    "# 3.数学の基礎(6, 15.0%)\n",
    "\n",
    "# 「積集合」 2つの集合の共通部分\n",
    "# 「和集合」 全部\n",
    "\n",
    "# 指数関数\n",
    "# 関数の入力が別の数字の肩に乗って使われる関数\n",
    "# シグモイド関数(0, 0.5)\n",
    "# xが大きくなると1に近づき、小さくなると0に近づく\n",
    "\n",
    "# 対数関数(0, 1)\n",
    "# 入力された値が、底の何乗に相当するかを出力する\n",
    "# 「自然対数」 底がネイピア数の時\n",
    "# 「常用対数」 底が10の時\n",
    "# 1の対数は0\n",
    "\n",
    "# 三角関数\n",
    "# sin 「サイン」 = 正弦,垂直方向\n",
    "# cos 「コサイン」 = 余弦 ,水平方向\n",
    "# tan「タンジェント」 = 正接\n",
    "# 「弧度法」 = 1周を2πとする単位(ラジアン)\n",
    "\n",
    "# 双曲線関数\n",
    "# sinhx 「ハイパボリックサイン」\n",
    "# coshx 「ハイパボリックコサイン」 ,懸垂線やカテナリー曲線\n",
    "# tahnx = sinhx / coshx\n",
    "\n",
    "# 線形代数\n",
    "\n",
    "# ベクトル\n",
    "# 丸括弧で数をまとめて表現したもの\n",
    "# スカラー\n",
    "# 単なる一つの数\n",
    "# ノルム\n",
    "# ベクトルの大きさをスカラーで表現する時\n",
    "# ユークリッド距離(2乗和の平方根)\n",
    "# マンハッタン距離(絶対値の距離)\n",
    "\n",
    "# 行列\n",
    "# 行列の掛け算は順番を入れ替えると同じになるとは限らない\n",
    "\n",
    "# 微分と積分\n",
    "\n",
    "# 積分\n",
    "# 積分の記号はインテグラル \n",
    "# 「定積分」 = 積分の範囲が決まっている\n",
    "# 「不定積分」 = 積分の範囲が決まっていない\n",
    "# Fをfの原始関数、fをFの導関数\n",
    "# Cは積分定数=オマケ\n",
    "# f(x) = e^x（eのx乗）は微分してもe^xとなり形が変わらない。これは底がeのときだけ成り立つものであり、ネイピア数を底とする指数関数が解析学で重要な役割を果たす理由の一つである。\n",
    "# 「微分係数」 = 導関数に具体的なxの値を代入して得られる値\n",
    "# 最適化は、関数の最小値や、少なくとも局所的な最小値である極小値を求めることを目標としている\n",
    "\n",
    "# 「共分散」 = それぞれの変数について平均値との差を掛け算する、必ずしも正にならない\n",
    "# 「相関係数」 = 「ピアソンの積率相関係数」 = 共分散を2つの変数の標準偏差で割った値、-1~1の値をとる\n",
    "# スピアマンの順位相関係数が有名、ギリシャ文字のローで表現される\n",
    "# 「確率質量関数」 = 確率変数が離散的\n",
    "# 「確率密度関数」 = 確率変数が連続的\n",
    "# 正規分布\n",
    "# x = 0で最も高い値、左右対象の釣鐘型\n",
    "# 標準正規分布\n",
    "# 平均0、分散1"
   ]
  },
  {
   "cell_type": "code",
   "execution_count": 4,
   "metadata": {},
   "outputs": [],
   "source": [
    "# 4-1.Numpy(6, 15.0%)"
   ]
  },
  {
   "cell_type": "code",
   "execution_count": 5,
   "metadata": {},
   "outputs": [],
   "source": [
    "# 4-2.pandas(7, 17.5%)"
   ]
  },
  {
   "cell_type": "code",
   "execution_count": 6,
   "metadata": {},
   "outputs": [],
   "source": [
    "# 4-3.Matplotlib(6, 15.0%)"
   ]
  },
  {
   "cell_type": "code",
   "execution_count": null,
   "metadata": {},
   "outputs": [],
   "source": [
    "# 4-4. scikit-learn(8, 20.0%)"
   ]
  }
 ],
 "metadata": {
  "kernelspec": {
   "display_name": "Python 3",
   "language": "python",
   "name": "python3"
  },
  "language_info": {
   "codemirror_mode": {
    "name": "ipython",
    "version": 3
   },
   "file_extension": ".py",
   "mimetype": "text/x-python",
   "name": "python",
   "nbconvert_exporter": "python",
   "pygments_lexer": "ipython3",
   "version": "3.7.6"
  }
 },
 "nbformat": 4,
 "nbformat_minor": 4
}
