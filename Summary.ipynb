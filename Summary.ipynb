{
 "cells": [
  {
   "cell_type": "code",
   "execution_count": 3,
   "metadata": {},
   "outputs": [],
   "source": [
    "# 1.データエンジニアの役割(2, 5.0%)\n",
    "\n",
    "# Pythonの得意とする分野\n",
    "# サーバ系ツール\n",
    "# Webシステムの構築\n",
    "# IoTデバイスの操作\n",
    "# 3Dグラフィックス\n",
    "\n",
    "# Pythonの苦手とする分野\n",
    "# Webアプリなどのフロントエンド\n",
    "# デスクトップGUI\n",
    "# 速度向上などのための低レイヤー処理\n",
    "# 超大規模かつミッションクリティカルな処理\n",
    "\n",
    "# Python以外の選択肢\n",
    "# R言語,Excel,VBA,Java\n",
    "\n",
    "# データサイエンティストとは\n",
    "# 数学、情報工学、対象分野の専門知識(ドメイン知識)、データ分析またはデータ解析の一連の処理及び理解・評価を行える立場の職種\n",
    "\n",
    "# データサイエンティストの役割\n",
    "# モデルやアルゴリズムの構築\n",
    "# 新たな解法や新技術への取り組み(研究分野)\n",
    "# 解決したい課題に向き合う実務(実務)\n",
    "# データとの向き合い方の提示\n",
    "# 分析結果の評価\n",
    "\n",
    "# 機械学習以外の選択肢\n",
    "# ルールベース(if文)\n",
    "# ルールベースではプログラミングの条件分岐の要領でデータを容易にルール化できるが、パラメータの数が増えると記述が困難になる。\n",
    "#　統計的手法\n",
    "# 機械学習と非常に親和性の高いアプローチ\n",
    "\n",
    "# 教師あり学習\n",
    "# 正解ラベルがある(目的変数)　⇄　説明変数(特徴データ、特徴量)\n",
    "# 回帰(目的変数が連続値) Ex.売り上げ、気温\n",
    "# 分類(目的変数が離散値) Ex.二値分類、多値分類\n",
    "\n",
    "# 教師なし学習\n",
    "# 正解ラベルなし\n",
    "# クラスタリング(グルーピングしてデータ間の相関を見つける)\n",
    "# 次元削減(大量なデータの種類(説明変数の次元数)をより少ないデータの種類(次元数)で言い表す)\n",
    "# 主成分分析などを用いて計算しやすい数まで説明変数を減らす\n",
    "\n",
    "# 強化学習\n",
    "# ブラックボックス的な環境の中で行動するエージェントが、得られる報酬を最大化するような状態に応じた行動を学習していく\n",
    "\n",
    "# 学習プロセス\n",
    "# ハイパーパラメータ(各アルゴリズムの実行に必要なパラメータ)の設定\n",
    "\n",
    "# パッケージ\n",
    "# Jupyter Notebook\n",
    "# 実行した結果は.ipynb拡張子で内部をJSONで保持\n",
    "\n",
    "# Numpy(数値計算、配列や行列を効率よく扱える)\n",
    "# 内部はC言語で高速\n",
    "\n",
    "# Pandas(Numpyを基盤としたDataFrame構造)\n",
    "# R言語のデータフレームからインスパイア\n",
    "\n",
    "# Scipy(科学技術計算)\n",
    "# scikit-learnの内部で高度な計算処理に多用\n",
    "# 高度な統計処理や線形代数を扱えたり、フーリエ変換などの処理"
   ]
  },
  {
   "cell_type": "code",
   "execution_count": 4,
   "metadata": {},
   "outputs": [
    {
     "data": {
      "text/plain": [
       "{'spam': 4, 'ham': 3, 'eggs': 4}"
      ]
     },
     "execution_count": 4,
     "metadata": {},
     "output_type": "execute_result"
    }
   ],
   "source": [
    "# 2.Pythonと環境(5, 12.5%)\n",
    "\n",
    "# venv環境の作成\n",
    "# python3.6 -m venv 仮想環境名\n",
    "# venv環境の削除\n",
    "# rm -rf 仮想環境名\n",
    "\n",
    "# pipコマンド\n",
    "# pip uninstall (-y) パッケージ名\n",
    "# pip install -U パッケージ名(最新版のパッケージをインストール)\n",
    "# pip list -o(新しいバージョンのあるパッケージ一覧)\n",
    "# pip freeze > requirements.txt\n",
    "# pip install -r requirements.txt\n",
    "\n",
    "# Pythonの基礎\n",
    "\n",
    "# コーディング規約(PEP8)\n",
    "# pycodestyle(PEP8のチェックツール)\n",
    "# Flake8(論理的なチェック(定義したが使用していない変数、importして使用していないモジュール))\n",
    "\n",
    "# IPythonの特徴\n",
    "# オブジェクトの後ろに？を付けると、オブジェクトの説明を表示\n",
    "# %ではじまるマジックコマンド(Ex. %timeit, %%timeit)\n",
    "# !でよるシェルコマンドの実行\n",
    "\n",
    "# 基本文法\n",
    "\n",
    "# []はリスト内包　⇄　{}はセット内包\n",
    "# {}&key:valueで辞書内表記\n",
    "names = ['spam', 'ham', 'eggs']\n",
    "{name: len(name) for name in names}"
   ]
  },
  {
   "cell_type": "code",
   "execution_count": 5,
   "metadata": {},
   "outputs": [
    {
     "data": {
      "text/plain": [
       "(0, 1, 4)"
      ]
     },
     "execution_count": 5,
     "metadata": {},
     "output_type": "execute_result"
    }
   ],
   "source": [
    "# ジェネレーター式\n",
    "g = (x*x for x in range(10000))\n",
    "type(g)\n",
    "next(g), next(g), next(g)"
   ]
  },
  {
   "cell_type": "code",
   "execution_count": 6,
   "metadata": {},
   "outputs": [
    {
     "data": {
      "text/plain": [
       "'Hello Python'"
      ]
     },
     "execution_count": 6,
     "metadata": {},
     "output_type": "execute_result"
    }
   ],
   "source": [
    "s1 = 'hello python'\n",
    "s1.title()"
   ]
  },
  {
   "cell_type": "code",
   "execution_count": 7,
   "metadata": {},
   "outputs": [
    {
     "data": {
      "text/plain": [
       "['spam', 'ham', 'eggs']"
      ]
     },
     "execution_count": 7,
     "metadata": {},
     "output_type": "execute_result"
    }
   ],
   "source": [
    "s2 = ' spam  ham       eggs        '\n",
    "s2.split() # 文字列の空白部分で分割"
   ]
  },
  {
   "cell_type": "code",
   "execution_count": 8,
   "metadata": {},
   "outputs": [
    {
     "data": {
      "text/plain": [
       "'spam  ham       eggs'"
      ]
     },
     "execution_count": 8,
     "metadata": {},
     "output_type": "execute_result"
    }
   ],
   "source": [
    "s2.strip() # 左右の空白文字を削除"
   ]
  },
  {
   "cell_type": "code",
   "execution_count": 9,
   "metadata": {},
   "outputs": [],
   "source": [
    "# pickleモジュール\n",
    "# Pythonのオブジェクトを直列化してファイルなどで読み書きできるようになる\n",
    "\n",
    "# ログレベル\n",
    "# デフォルトではログレベルはWARINING(警告)以上が出力される"
   ]
  },
  {
   "cell_type": "code",
   "execution_count": 10,
   "metadata": {},
   "outputs": [],
   "source": [
    "# 3.数学の基礎(6, 15.0%)\n",
    "\n",
    "# 「積集合」 2つの集合の共通部分\n",
    "# 「和集合」 全部\n",
    "\n",
    "# 指数関数\n",
    "# 関数の入力が別の数字の肩に乗って使われる関数\n",
    "# シグモイド関数(0, 0.5)\n",
    "# xが大きくなると1に近づき、小さくなると0に近づく\n",
    "\n",
    "# 対数関数(0, 1)\n",
    "# 入力された値が、底の何乗に相当するかを出力する\n",
    "# 「自然対数」 底がネイピア数の時\n",
    "# 「常用対数」 底が10の時\n",
    "# 1の対数は0\n",
    "\n",
    "# 三角関数\n",
    "# sin 「サイン」 = 正弦,垂直方向\n",
    "# cos 「コサイン」 = 余弦 ,水平方向\n",
    "# tan「タンジェント」 = 正接\n",
    "# 「弧度法」 = 1周を2πとする単位(ラジアン)\n",
    "\n",
    "# 双曲線関数\n",
    "# sinhx 「ハイパボリックサイン」\n",
    "# coshx 「ハイパボリックコサイン」 ,懸垂線やカテナリー曲線\n",
    "# tahnx = sinhx / coshx\n",
    "\n",
    "# 線形代数\n",
    "\n",
    "# ベクトル\n",
    "# 丸括弧で数をまとめて表現したもの\n",
    "# スカラー\n",
    "# 単なる一つの数\n",
    "# ノルム\n",
    "# ベクトルの大きさをスカラーで表現する時\n",
    "# ユークリッド距離(2乗和の平方根)\n",
    "# マンハッタン距離(絶対値の距離)\n",
    "\n",
    "# 行列\n",
    "# 行列の掛け算は順番を入れ替えると同じになるとは限らない\n",
    "\n",
    "# 微分と積分\n",
    "\n",
    "# 積分\n",
    "# 積分の記号はインテグラル \n",
    "# 「定積分」 = 積分の範囲が決まっている\n",
    "# 「不定積分」 = 積分の範囲が決まっていない\n",
    "# Fをfの原始関数、fをFの導関数\n",
    "# Cは積分定数=オマケ\n",
    "# f(x) = e^x（eのx乗）は微分してもe^xとなり形が変わらない。これは底がeのときだけ成り立つものであり、ネイピア数を底とする指数関数が解析学で重要な役割を果たす理由の一つである。\n",
    "# 「微分係数」 = 導関数に具体的なxの値を代入して得られる値\n",
    "# 最適化は、関数の最小値や、少なくとも局所的な最小値である極小値を求めることを目標としている\n",
    "\n",
    "# 「共分散」 = それぞれの変数について平均値との差を掛け算する、必ずしも正にならない\n",
    "# 「相関係数」 = 「ピアソンの積率相関係数」 = 共分散を2つの変数の標準偏差で割った値、-1~1の値をとる\n",
    "# スピアマンの順位相関係数が有名、ギリシャ文字のローで表現される\n",
    "# 「確率質量関数」 = 確率変数が離散的\n",
    "# 「確率密度関数」 = 確率変数が連続的\n",
    "# 正規分布\n",
    "# x = 0で最も高い値、左右対象の釣鐘型\n",
    "# 標準正規分布\n",
    "# 平均0、分散1"
   ]
  },
  {
   "cell_type": "code",
   "execution_count": 11,
   "metadata": {},
   "outputs": [],
   "source": [
    "# 4-1.Numpy(6, 15.0%)\n",
    "\n",
    "# 配列や行列を効率よく扱える\n",
    "# 配列用の型であるndarrayと行列用の型であるmatrix"
   ]
  },
  {
   "cell_type": "code",
   "execution_count": 12,
   "metadata": {},
   "outputs": [
    {
     "data": {
      "text/plain": [
       "numpy.ndarray"
      ]
     },
     "execution_count": 12,
     "metadata": {},
     "output_type": "execute_result"
    }
   ],
   "source": [
    "import numpy as np\n",
    "\n",
    "a = np.array([1, 2, 3])\n",
    "type(a) # オブジェクトの確認"
   ]
  },
  {
   "cell_type": "code",
   "execution_count": 13,
   "metadata": {},
   "outputs": [
    {
     "data": {
      "text/plain": [
       "(3,)"
      ]
     },
     "execution_count": 13,
     "metadata": {},
     "output_type": "execute_result"
    }
   ],
   "source": [
    "a.shape # 要素数"
   ]
  },
  {
   "cell_type": "code",
   "execution_count": 14,
   "metadata": {},
   "outputs": [
    {
     "data": {
      "text/plain": [
       "array([0, 1, 2, 3, 4, 5])"
      ]
     },
     "execution_count": 14,
     "metadata": {},
     "output_type": "execute_result"
    }
   ],
   "source": [
    "c2 = np.array([[0, 1, 2], [3, 4, 5]])\n",
    "c3 = c2.ravel() # 参照(浅いコピー)を返す\n",
    "c3"
   ]
  },
  {
   "cell_type": "code",
   "execution_count": 15,
   "metadata": {},
   "outputs": [
    {
     "data": {
      "text/plain": [
       "array([0, 1, 2, 3, 4, 5])"
      ]
     },
     "execution_count": 15,
     "metadata": {},
     "output_type": "execute_result"
    }
   ],
   "source": [
    "c4 = c2.flatten() # コピー(深いコピー)を返す\n",
    "c4\n",
    "\n",
    "# Pythonの標準のスライスはコピーを返すが、Numpyのスライスは参照を返す"
   ]
  },
  {
   "cell_type": "code",
   "execution_count": 43,
   "metadata": {},
   "outputs": [
    {
     "ename": "SyntaxError",
     "evalue": "invalid character in identifier (<ipython-input-43-86c150fdc8f3>, line 2)",
     "output_type": "error",
     "traceback": [
      "\u001b[0;36m  File \u001b[0;32m\"<ipython-input-43-86c150fdc8f3>\"\u001b[0;36m, line \u001b[0;32m2\u001b[0m\n\u001b[0;31m    a.dtype　# デフォルトはnp.int64\u001b[0m\n\u001b[0m           ^\u001b[0m\n\u001b[0;31mSyntaxError\u001b[0m\u001b[0;31m:\u001b[0m invalid character in identifier\n"
     ]
    }
   ],
   "source": [
    "# データ型\n",
    "a.dtype　# デフォルトはnp.int64"
   ]
  },
  {
   "cell_type": "code",
   "execution_count": 17,
   "metadata": {},
   "outputs": [
    {
     "data": {
      "text/plain": [
       "dtype('int16')"
      ]
     },
     "execution_count": 17,
     "metadata": {},
     "output_type": "execute_result"
    }
   ],
   "source": [
    "d = np.array([1, 2], dtype=np.int16)\n",
    "d.dtype"
   ]
  },
  {
   "cell_type": "code",
   "execution_count": 18,
   "metadata": {},
   "outputs": [
    {
     "data": {
      "text/plain": [
       "array([1., 2.], dtype=float16)"
      ]
     },
     "execution_count": 18,
     "metadata": {},
     "output_type": "execute_result"
    }
   ],
   "source": [
    "d.astype(np.float16)"
   ]
  },
  {
   "cell_type": "code",
   "execution_count": 19,
   "metadata": {},
   "outputs": [
    {
     "data": {
      "text/plain": [
       "array([[1, 3],\n",
       "       [4, 6]])"
      ]
     },
     "execution_count": 19,
     "metadata": {},
     "output_type": "execute_result"
    }
   ],
   "source": [
    "b = np.array([[1, 2, 3], [4, 5, 6]])\n",
    "b[:, [0, 2]] # 列の値を2つ取得"
   ]
  },
  {
   "cell_type": "code",
   "execution_count": 20,
   "metadata": {},
   "outputs": [
    {
     "data": {
      "text/plain": [
       "array([ 1,  2,  3,  4,  5,  6,  7,  8,  9, 10])"
      ]
     },
     "execution_count": 20,
     "metadata": {},
     "output_type": "execute_result"
    }
   ],
   "source": [
    "# 数列を返す(arange)\n",
    "np.arange(1, 11)"
   ]
  },
  {
   "cell_type": "code",
   "execution_count": 21,
   "metadata": {},
   "outputs": [
    {
     "data": {
      "text/plain": [
       "array([[0.54285723, 0.5643362 ],\n",
       "       [0.0336194 , 0.58402365],\n",
       "       [0.60897231, 0.62348787]])"
      ]
     },
     "execution_count": 21,
     "metadata": {},
     "output_type": "execute_result"
    }
   ],
   "source": [
    "# 乱数\n",
    "np.random.random((3,2)) # 0以上1未満の乱数、タプルで渡す"
   ]
  },
  {
   "cell_type": "code",
   "execution_count": 22,
   "metadata": {},
   "outputs": [
    {
     "data": {
      "text/plain": [
       "array([[0.6891111 , 0.35770985],\n",
       "       [0.3267589 , 0.24825659],\n",
       "       [0.69453594, 0.90443457],\n",
       "       [0.90665218, 0.81802835]])"
      ]
     },
     "execution_count": 22,
     "metadata": {},
     "output_type": "execute_result"
    }
   ],
   "source": [
    "np.random.rand(4, 2) # (行, 列)"
   ]
  },
  {
   "cell_type": "code",
   "execution_count": 23,
   "metadata": {},
   "outputs": [
    {
     "data": {
      "text/plain": [
       "array([[6, 7, 6],\n",
       "       [7, 2, 7],\n",
       "       [7, 1, 6]])"
      ]
     },
     "execution_count": 23,
     "metadata": {},
     "output_type": "execute_result"
    }
   ],
   "source": [
    "np.random.randint(1, 10, (3,3)) # 第三引数としてタプルで渡した行と列の二次元配列を生成"
   ]
  },
  {
   "cell_type": "code",
   "execution_count": 24,
   "metadata": {},
   "outputs": [
    {
     "data": {
      "text/plain": [
       "array([[3.69044601, 0.55456325, 2.00467751],\n",
       "       [3.62939283, 2.16397972, 1.12807419]])"
      ]
     },
     "execution_count": 24,
     "metadata": {},
     "output_type": "execute_result"
    }
   ],
   "source": [
    "np.random.uniform(0.0, 5.0, size=(2, 3))\n",
    "# 省略すると第一引数は0.0、第二引数は1.0、戻り値は小数値になる"
   ]
  },
  {
   "cell_type": "code",
   "execution_count": 25,
   "metadata": {},
   "outputs": [
    {
     "data": {
      "text/plain": [
       "array([[0.56751081, 0.90079372, 0.11392401],\n",
       "       [0.57468199, 0.25443337, 0.002174  ],\n",
       "       [0.3564639 , 0.67206647, 0.18841431],\n",
       "       [0.40613475, 0.45762758, 0.1159158 ]])"
      ]
     },
     "execution_count": 25,
     "metadata": {},
     "output_type": "execute_result"
    }
   ],
   "source": [
    "np.random.uniform(size=(4, 3))"
   ]
  },
  {
   "cell_type": "code",
   "execution_count": 26,
   "metadata": {},
   "outputs": [
    {
     "data": {
      "text/plain": [
       "array([[ 1.94609024,  0.21056474],\n",
       "       [-1.05674464, -0.01831748],\n",
       "       [-0.51313563,  1.02271191],\n",
       "       [ 1.49132558, -0.27288767]])"
      ]
     },
     "execution_count": 26,
     "metadata": {},
     "output_type": "execute_result"
    }
   ],
   "source": [
    "np.random.randn(4, 2) # 正規分布乱数(標準正規分布(平均0,平均1)の乱数)を生成 ⇄ 一様乱数"
   ]
  },
  {
   "cell_type": "code",
   "execution_count": 27,
   "metadata": {},
   "outputs": [],
   "source": [
    "# np.random.normal(平均, 標準偏差, size=(x, y)) の正規分布乱数"
   ]
  },
  {
   "cell_type": "code",
   "execution_count": 28,
   "metadata": {},
   "outputs": [
    {
     "data": {
      "text/plain": [
       "array([[1., 0., 0.],\n",
       "       [0., 1., 0.],\n",
       "       [0., 0., 1.]])"
      ]
     },
     "execution_count": 28,
     "metadata": {},
     "output_type": "execute_result"
    }
   ],
   "source": [
    "# 単位行列 = 対角成分が1でそれ以外は0\n",
    "np.eye(3)"
   ]
  },
  {
   "cell_type": "code",
   "execution_count": 29,
   "metadata": {},
   "outputs": [
    {
     "data": {
      "text/plain": [
       "array([[3.14, 3.14, 3.14, 3.14],\n",
       "       [3.14, 3.14, 3.14, 3.14]])"
      ]
     },
     "execution_count": 29,
     "metadata": {},
     "output_type": "execute_result"
    }
   ],
   "source": [
    "# 指定値で埋める\n",
    "np.full((2, 4), 3.14)"
   ]
  },
  {
   "cell_type": "code",
   "execution_count": 30,
   "metadata": {},
   "outputs": [
    {
     "data": {
      "text/plain": [
       "array([0.  , 0.25, 0.5 , 0.75, 1.  ])"
      ]
     },
     "execution_count": 30,
     "metadata": {},
     "output_type": "execute_result"
    }
   ],
   "source": [
    "# 範囲指定で均等割りデータの作成\n",
    "np.linspace(0, 1, 5) # np.arange(0, 1.1, 0.25)と同じ"
   ]
  },
  {
   "cell_type": "code",
   "execution_count": 31,
   "metadata": {},
   "outputs": [
    {
     "data": {
      "text/plain": [
       "array([ 0,  4, -5,  2])"
      ]
     },
     "execution_count": 31,
     "metadata": {},
     "output_type": "execute_result"
    }
   ],
   "source": [
    "# 要素間の差\n",
    "l = np.array([2, 2, 6, 1, 3])\n",
    "np.diff(l) # 前後の差を出力"
   ]
  },
  {
   "cell_type": "code",
   "execution_count": 32,
   "metadata": {},
   "outputs": [
    {
     "data": {
      "text/plain": [
       "array([[ 1,  2,  3, 10],\n",
       "       [ 4,  5,  6, 20]])"
      ]
     },
     "execution_count": 32,
     "metadata": {},
     "output_type": "execute_result"
    }
   ],
   "source": [
    "# 連結\n",
    "b1 = np.array([[10], [20]])\n",
    "np.concatenate([b, b1], axis = 1) # 列方向"
   ]
  },
  {
   "cell_type": "code",
   "execution_count": 33,
   "metadata": {},
   "outputs": [
    {
     "data": {
      "text/plain": [
       "array([[ 1,  2,  3, 10],\n",
       "       [ 4,  5,  6, 20]])"
      ]
     },
     "execution_count": 33,
     "metadata": {},
     "output_type": "execute_result"
    }
   ],
   "source": [
    "np.hstack([b, b1])"
   ]
  },
  {
   "cell_type": "code",
   "execution_count": 34,
   "metadata": {},
   "outputs": [
    {
     "data": {
      "text/plain": [
       "array([[ 1,  2,  3],\n",
       "       [ 4,  5,  6],\n",
       "       [30, 60, 45]])"
      ]
     },
     "execution_count": 34,
     "metadata": {},
     "output_type": "execute_result"
    }
   ],
   "source": [
    "b2 = np.array([30, 60, 45])\n",
    "b3 = np.vstack([b, b2]) # 行方向\n",
    "b3"
   ]
  },
  {
   "cell_type": "code",
   "execution_count": 35,
   "metadata": {},
   "outputs": [
    {
     "data": {
      "text/plain": [
       "array([[ 1,  2],\n",
       "       [ 4,  5],\n",
       "       [30, 60]])"
      ]
     },
     "execution_count": 35,
     "metadata": {},
     "output_type": "execute_result"
    }
   ],
   "source": [
    "# 分割\n",
    "first, second = np.hsplit(b3, [2])\n",
    "first"
   ]
  },
  {
   "cell_type": "code",
   "execution_count": 36,
   "metadata": {},
   "outputs": [
    {
     "data": {
      "text/plain": [
       "array([[ 3],\n",
       "       [ 6],\n",
       "       [45]])"
      ]
     },
     "execution_count": 36,
     "metadata": {},
     "output_type": "execute_result"
    }
   ],
   "source": [
    "second"
   ]
  },
  {
   "cell_type": "code",
   "execution_count": 37,
   "metadata": {},
   "outputs": [
    {
     "data": {
      "text/plain": [
       "array([[1, 2, 3],\n",
       "       [4, 5, 6]])"
      ]
     },
     "execution_count": 37,
     "metadata": {},
     "output_type": "execute_result"
    }
   ],
   "source": [
    "first1, second2 = np.vsplit(b3, [2])\n",
    "first1"
   ]
  },
  {
   "cell_type": "code",
   "execution_count": 38,
   "metadata": {},
   "outputs": [
    {
     "data": {
      "text/plain": [
       "array([[30, 60, 45]])"
      ]
     },
     "execution_count": 38,
     "metadata": {},
     "output_type": "execute_result"
    }
   ],
   "source": [
    "second2"
   ]
  },
  {
   "cell_type": "code",
   "execution_count": 44,
   "metadata": {},
   "outputs": [
    {
     "name": "stdout",
     "output_type": "stream",
     "text": [
      "[[1 2 3]\n",
      " [4 5 6]]\n"
     ]
    },
    {
     "data": {
      "text/plain": [
       "array([[1, 4],\n",
       "       [2, 5],\n",
       "       [3, 6]])"
      ]
     },
     "execution_count": 44,
     "metadata": {},
     "output_type": "execute_result"
    }
   ],
   "source": [
    "# 転置(行と列を入れ替えること)\n",
    "print(b)\n",
    "b.T"
   ]
  },
  {
   "cell_type": "code",
   "execution_count": 40,
   "metadata": {},
   "outputs": [
    {
     "data": {
      "text/plain": [
       "array([1, 2, 3])"
      ]
     },
     "execution_count": 40,
     "metadata": {},
     "output_type": "execute_result"
    }
   ],
   "source": [
    "# 次元追加\n",
    "a"
   ]
  },
  {
   "cell_type": "code",
   "execution_count": 41,
   "metadata": {},
   "outputs": [
    {
     "data": {
      "text/plain": [
       "array([[1, 2, 3]])"
      ]
     },
     "execution_count": 41,
     "metadata": {},
     "output_type": "execute_result"
    }
   ],
   "source": [
    "a[np.newaxis, :] # 行方向に追加"
   ]
  },
  {
   "cell_type": "code",
   "execution_count": 42,
   "metadata": {},
   "outputs": [
    {
     "data": {
      "text/plain": [
       "array([[1],\n",
       "       [2],\n",
       "       [3]])"
      ]
     },
     "execution_count": 42,
     "metadata": {},
     "output_type": "execute_result"
    }
   ],
   "source": [
    "a[:, np.newaxis] # 列方向に追加"
   ]
  },
  {
   "cell_type": "code",
   "execution_count": 61,
   "metadata": {},
   "outputs": [
    {
     "data": {
      "text/plain": [
       "array([0, 1, 2, 3])"
      ]
     },
     "execution_count": 61,
     "metadata": {},
     "output_type": "execute_result"
    }
   ],
   "source": [
    "# グリッドデータの生成\n",
    "# meshgrid関数は2次元上の点に対応する等高線やヒートマップなどを描くときに使用する\n",
    "# x座標、y座標の配列から、それらを組み合わせてできるすべての点の座標データを生成する\n",
    "\n",
    "m = np.arange(0, 4)\n",
    "m"
   ]
  },
  {
   "cell_type": "code",
   "execution_count": 62,
   "metadata": {},
   "outputs": [
    {
     "data": {
      "text/plain": [
       "array([4, 5, 6])"
      ]
     },
     "execution_count": 62,
     "metadata": {},
     "output_type": "execute_result"
    }
   ],
   "source": [
    "n = np.arange(4, 7)\n",
    "n"
   ]
  },
  {
   "cell_type": "code",
   "execution_count": 64,
   "metadata": {},
   "outputs": [
    {
     "data": {
      "text/plain": [
       "array([[0, 1, 2, 3],\n",
       "       [0, 1, 2, 3],\n",
       "       [0, 1, 2, 3]])"
      ]
     },
     "execution_count": 64,
     "metadata": {},
     "output_type": "execute_result"
    }
   ],
   "source": [
    "xx, yy = np.meshgrid(m, n)\n",
    "xx"
   ]
  },
  {
   "cell_type": "code",
   "execution_count": 65,
   "metadata": {},
   "outputs": [
    {
     "data": {
      "text/plain": [
       "array([[4, 4, 4, 4],\n",
       "       [5, 5, 5, 5],\n",
       "       [6, 6, 6, 6]])"
      ]
     },
     "execution_count": 65,
     "metadata": {},
     "output_type": "execute_result"
    }
   ],
   "source": [
    "yy"
   ]
  },
  {
   "cell_type": "code",
   "execution_count": 66,
   "metadata": {},
   "outputs": [
    {
     "data": {
      "text/plain": [
       "array([[1, 2, 3],\n",
       "       [4, 5, 6]])"
      ]
     },
     "execution_count": 66,
     "metadata": {},
     "output_type": "execute_result"
    }
   ],
   "source": [
    "# ユニバーサルファンクション\n",
    "# Numpyの強烈なツールの一つ、配列要素内のデータを一括で変換\n",
    "\n",
    "np.abs(b)"
   ]
  },
  {
   "cell_type": "code",
   "execution_count": 70,
   "metadata": {},
   "outputs": [
    {
     "data": {
      "text/plain": [
       "array([0.54030231, 0.71247462, 0.84960756, 0.94495695, 0.99383351,\n",
       "       0.99383351, 0.94495695, 0.84960756, 0.71247462, 0.54030231])"
      ]
     },
     "execution_count": 70,
     "metadata": {},
     "output_type": "execute_result"
    }
   ],
   "source": [
    "e = np.linspace(-1, 1, 10)\n",
    "np.sin(e)\n",
    "np.cos(e)"
   ]
  },
  {
   "cell_type": "code",
   "execution_count": 74,
   "metadata": {},
   "outputs": [
    {
     "name": "stderr",
     "output_type": "stream",
     "text": [
      "/Users/yukisakiyama/opt/anaconda3/lib/python3.7/site-packages/ipykernel_launcher.py:2: RuntimeWarning: divide by zero encountered in log\n",
      "  \n"
     ]
    },
    {
     "data": {
      "text/plain": [
       "array([      -inf, 0.        , 0.69314718])"
      ]
     },
     "execution_count": 74,
     "metadata": {},
     "output_type": "execute_result"
    }
   ],
   "source": [
    "a = np.arange(3)\n",
    "np.log(a)"
   ]
  },
  {
   "cell_type": "code",
   "execution_count": 76,
   "metadata": {},
   "outputs": [
    {
     "data": {
      "text/plain": [
       "array([[0.        , 0.30103   , 0.47712125],\n",
       "       [0.60205999, 0.69897   , 0.77815125]])"
      ]
     },
     "execution_count": 76,
     "metadata": {},
     "output_type": "execute_result"
    }
   ],
   "source": [
    "c = np.arange(1, 7).reshape((2, 3))\n",
    "np.log10(c)"
   ]
  },
  {
   "cell_type": "code",
   "execution_count": 77,
   "metadata": {},
   "outputs": [
    {
     "data": {
      "text/plain": [
       "array([1.        , 2.71828183, 7.3890561 ])"
      ]
     },
     "execution_count": 77,
     "metadata": {},
     "output_type": "execute_result"
    }
   ],
   "source": [
    "np.exp(a)"
   ]
  },
  {
   "cell_type": "code",
   "execution_count": 78,
   "metadata": {},
   "outputs": [
    {
     "data": {
      "text/plain": [
       "array([0, 1, 2])"
      ]
     },
     "execution_count": 78,
     "metadata": {},
     "output_type": "execute_result"
    }
   ],
   "source": [
    "# ブロードキャスト\n",
    "# 配列の内部データに直接演算などが行えるNumpyにとって非常に強烈な機能\n",
    "a"
   ]
  },
  {
   "cell_type": "code",
   "execution_count": 79,
   "metadata": {},
   "outputs": [
    {
     "data": {
      "text/plain": [
       "array([10, 11, 12])"
      ]
     },
     "execution_count": 79,
     "metadata": {},
     "output_type": "execute_result"
    }
   ],
   "source": [
    "a + 10"
   ]
  },
  {
   "cell_type": "code",
   "execution_count": 80,
   "metadata": {},
   "outputs": [
    {
     "data": {
      "text/plain": [
       "array([[1, 2, 3],\n",
       "       [4, 5, 6]])"
      ]
     },
     "execution_count": 80,
     "metadata": {},
     "output_type": "execute_result"
    }
   ],
   "source": [
    "b"
   ]
  },
  {
   "cell_type": "code",
   "execution_count": 81,
   "metadata": {},
   "outputs": [
    {
     "data": {
      "text/plain": [
       "array([[1, 3, 5],\n",
       "       [4, 6, 8]])"
      ]
     },
     "execution_count": 81,
     "metadata": {},
     "output_type": "execute_result"
    }
   ],
   "source": [
    "a + b"
   ]
  },
  {
   "cell_type": "code",
   "execution_count": 82,
   "metadata": {},
   "outputs": [
    {
     "data": {
      "text/plain": [
       "array([[0],\n",
       "       [1],\n",
       "       [2]])"
      ]
     },
     "execution_count": 82,
     "metadata": {},
     "output_type": "execute_result"
    }
   ],
   "source": [
    "a1 = a[:, np.newaxis]\n",
    "a1"
   ]
  },
  {
   "cell_type": "code",
   "execution_count": 83,
   "metadata": {},
   "outputs": [
    {
     "data": {
      "text/plain": [
       "array([[0, 1, 2],\n",
       "       [1, 2, 3],\n",
       "       [2, 3, 4]])"
      ]
     },
     "execution_count": 83,
     "metadata": {},
     "output_type": "execute_result"
    }
   ],
   "source": [
    "a + a1"
   ]
  },
  {
   "cell_type": "code",
   "execution_count": 84,
   "metadata": {},
   "outputs": [
    {
     "name": "stderr",
     "output_type": "stream",
     "text": [
      "/Users/yukisakiyama/opt/anaconda3/lib/python3.7/site-packages/ipykernel_launcher.py:2: RuntimeWarning: divide by zero encountered in true_divide\n",
      "  \n"
     ]
    },
    {
     "data": {
      "text/plain": [
       "array([[inf, 2. , 1.5],\n",
       "       [inf, 5. , 3. ]])"
      ]
     },
     "execution_count": 84,
     "metadata": {},
     "output_type": "execute_result"
    }
   ],
   "source": [
    "# 要素に0を含む割り算を実行すると無限大を表すinf\n",
    "c / a"
   ]
  },
  {
   "cell_type": "code",
   "execution_count": 85,
   "metadata": {},
   "outputs": [
    {
     "data": {
      "text/plain": [
       "array([[1.00000000e+06, 1.99999800e+00, 1.49999925e+00],\n",
       "       [4.00000000e+06, 4.99999500e+00, 2.99999850e+00]])"
      ]
     },
     "execution_count": 85,
     "metadata": {},
     "output_type": "execute_result"
    }
   ],
   "source": [
    "# 微妙な数値を足す\n",
    "c / (a+1e-6)\n",
    "# 0以外で割る要素は計算結果としてほぼ同じ数値、0で割る要素は非常に大きな数値"
   ]
  },
  {
   "cell_type": "code",
   "execution_count": 86,
   "metadata": {},
   "outputs": [
    {
     "data": {
      "text/plain": [
       "array([ 8, 17])"
      ]
     },
     "execution_count": 86,
     "metadata": {},
     "output_type": "execute_result"
    }
   ],
   "source": [
    "# ドット積\n",
    "np.dot(b, a)"
   ]
  },
  {
   "cell_type": "code",
   "execution_count": 87,
   "metadata": {},
   "outputs": [
    {
     "data": {
      "text/plain": [
       "array([ 8, 17])"
      ]
     },
     "execution_count": 87,
     "metadata": {},
     "output_type": "execute_result"
    }
   ],
   "source": [
    "b @ a"
   ]
  },
  {
   "cell_type": "code",
   "execution_count": 88,
   "metadata": {},
   "outputs": [
    {
     "data": {
      "text/plain": [
       "True"
      ]
     },
     "execution_count": 88,
     "metadata": {},
     "output_type": "execute_result"
    }
   ],
   "source": [
    "# 判定・論理値\n",
    "np.any(b > 0) # 要素の中にTrueが含まれているか確認"
   ]
  },
  {
   "cell_type": "code",
   "execution_count": 89,
   "metadata": {},
   "outputs": [
    {
     "data": {
      "text/plain": [
       "array([1, 2, 3, 4, 5, 6])"
      ]
     },
     "execution_count": 89,
     "metadata": {},
     "output_type": "execute_result"
    }
   ],
   "source": [
    "b[b > 0] # 条件に合致した新たな配列の作成"
   ]
  },
  {
   "cell_type": "code",
   "execution_count": 91,
   "metadata": {},
   "outputs": [
    {
     "data": {
      "text/plain": [
       "True"
      ]
     },
     "execution_count": 91,
     "metadata": {},
     "output_type": "execute_result"
    }
   ],
   "source": [
    "np.allclose(b, c, atol=10) # 誤差の範囲か確認"
   ]
  },
  {
   "cell_type": "code",
   "execution_count": 101,
   "metadata": {},
   "outputs": [],
   "source": [
    "# 4-2.pandas(7, 17.5%)\n",
    "\n",
    "# データ分析ツール、データの入手や加工に使われる\n",
    "# シリーズ(Series)とデータフレーム(DataFrame)型\n",
    "\n",
    "import pandas as pd"
   ]
  },
  {
   "cell_type": "code",
   "execution_count": 99,
   "metadata": {},
   "outputs": [
    {
     "data": {
      "text/plain": [
       "0    10\n",
       "1    20\n",
       "2    30\n",
       "3    40\n",
       "dtype: int64"
      ]
     },
     "execution_count": 99,
     "metadata": {},
     "output_type": "execute_result"
    }
   ],
   "source": [
    "# Series = 1次元データ\n",
    "# デフォルトのデータ型は'int64'\n",
    "\n",
    "ser = pd.Series([10, 20, 30, 40])\n",
    "ser"
   ]
  },
  {
   "cell_type": "code",
   "execution_count": 103,
   "metadata": {},
   "outputs": [
    {
     "data": {
      "text/html": [
       "<div>\n",
       "<style scoped>\n",
       "    .dataframe tbody tr th:only-of-type {\n",
       "        vertical-align: middle;\n",
       "    }\n",
       "\n",
       "    .dataframe tbody tr th {\n",
       "        vertical-align: top;\n",
       "    }\n",
       "\n",
       "    .dataframe thead th {\n",
       "        text-align: right;\n",
       "    }\n",
       "</style>\n",
       "<table border=\"1\" class=\"dataframe\">\n",
       "  <thead>\n",
       "    <tr style=\"text-align: right;\">\n",
       "      <th></th>\n",
       "      <th>0</th>\n",
       "      <th>1</th>\n",
       "    </tr>\n",
       "  </thead>\n",
       "  <tbody>\n",
       "    <tr>\n",
       "      <th>0</th>\n",
       "      <td>0</td>\n",
       "      <td>1</td>\n",
       "    </tr>\n",
       "    <tr>\n",
       "      <th>1</th>\n",
       "      <td>2</td>\n",
       "      <td>3</td>\n",
       "    </tr>\n",
       "    <tr>\n",
       "      <th>2</th>\n",
       "      <td>4</td>\n",
       "      <td>5</td>\n",
       "    </tr>\n",
       "  </tbody>\n",
       "</table>\n",
       "</div>"
      ],
      "text/plain": [
       "   0  1\n",
       "0  0  1\n",
       "1  2  3\n",
       "2  4  5"
      ]
     },
     "execution_count": 103,
     "metadata": {},
     "output_type": "execute_result"
    }
   ],
   "source": [
    "# DataFrame = 2次元データ\n",
    "\n",
    "df = pd.DataFrame(np.arange(6).reshape((3, 2)))\n",
    "df"
   ]
  },
  {
   "cell_type": "code",
   "execution_count": 105,
   "metadata": {},
   "outputs": [
    {
     "data": {
      "text/html": [
       "<div>\n",
       "<style scoped>\n",
       "    .dataframe tbody tr th:only-of-type {\n",
       "        vertical-align: middle;\n",
       "    }\n",
       "\n",
       "    .dataframe tbody tr th {\n",
       "        vertical-align: top;\n",
       "    }\n",
       "\n",
       "    .dataframe thead th {\n",
       "        text-align: right;\n",
       "    }\n",
       "</style>\n",
       "<table border=\"1\" class=\"dataframe\">\n",
       "  <thead>\n",
       "    <tr style=\"text-align: right;\">\n",
       "      <th></th>\n",
       "      <th>A</th>\n",
       "      <th>B</th>\n",
       "    </tr>\n",
       "  </thead>\n",
       "  <tbody>\n",
       "    <tr>\n",
       "      <th>01</th>\n",
       "      <td>0</td>\n",
       "      <td>1</td>\n",
       "    </tr>\n",
       "    <tr>\n",
       "      <th>02</th>\n",
       "      <td>2</td>\n",
       "      <td>3</td>\n",
       "    </tr>\n",
       "    <tr>\n",
       "      <th>03</th>\n",
       "      <td>4</td>\n",
       "      <td>5</td>\n",
       "    </tr>\n",
       "  </tbody>\n",
       "</table>\n",
       "</div>"
      ],
      "text/plain": [
       "    A  B\n",
       "01  0  1\n",
       "02  2  3\n",
       "03  4  5"
      ]
     },
     "execution_count": 105,
     "metadata": {},
     "output_type": "execute_result"
    }
   ],
   "source": [
    "df.index = [\"01\", \"02\", \"03\"]\n",
    "df.columns = [\"A\", \"B\"]\n",
    "df"
   ]
  },
  {
   "cell_type": "code",
   "execution_count": 45,
   "metadata": {},
   "outputs": [],
   "source": [
    "# データの抽出\n",
    "# df.loc[インデックス名, カラム名]\n",
    "# df.iloc[インデックス番号, カラム番号]"
   ]
  },
  {
   "cell_type": "code",
   "execution_count": 107,
   "metadata": {},
   "outputs": [],
   "source": [
    "# データの読み込み\n",
    "\n",
    "# pd.read_csv\n",
    "# pd.read_excel\n",
    "\n",
    "# pd.read_html(url)\n",
    "# webサイトのHTML内にあるtable要素を抜き出す\n",
    "\n",
    "# データの書き込み\n",
    "\n",
    "# df.to_csv\n",
    "# df.to_excel\n",
    "\n",
    "# データの再利用\n",
    "\n",
    "# df.to_pickle\n",
    "# pd.read_pickle\n",
    "# Pythonオブジェクトを直列化し、ファイルへの書き込み及び読み込みを可能"
   ]
  },
  {
   "cell_type": "code",
   "execution_count": 108,
   "metadata": {},
   "outputs": [],
   "source": [
    "# データの整形\n",
    "\n",
    "# df.query\n",
    "# SQL構文のように条件を書き抽出\n",
    "\n",
    "# .apply(pd.to_datetime)\n",
    "# データ型変更\n",
    "\n",
    "# df.sort_values(by=\"\") 昇順\n",
    "# df.sort_values(by=\"\", ascending=False) 降順\n",
    "\n",
    "#df_moved = pd.get_dummies(df.loc[:, \"運動指数\"], prefix=\"運動\") get_dummiesで0,1、prefixで先頭の文字指定\n",
    "\n",
    "# df.groupby(pd.Grouper(freq='M')).mean\n",
    "# freq='M'で月ごとのデータ\n",
    "# freq=\"W-SAT\"で土曜日のデータ"
   ]
  },
  {
   "cell_type": "code",
   "execution_count": 109,
   "metadata": {},
   "outputs": [],
   "source": [
    "# 欠損値の処理\n",
    "\n",
    "# dropna\n",
    "# 欠損値の行の削除\n",
    "\n",
    "# fillna()\n",
    "# fillna(method='ffill') 直前\n",
    "# fillna(method= bfill') 直後\n",
    "# .mode().iloc[0, :] 最頻値"
   ]
  },
  {
   "cell_type": "code",
   "execution_count": 110,
   "metadata": {},
   "outputs": [],
   "source": [
    "# データ連結\n",
    "\n",
    "# concat関数\n",
    "# 列方向 axis=1\n",
    "# 行方向 axis=0"
   ]
  },
  {
   "cell_type": "code",
   "execution_count": 111,
   "metadata": {},
   "outputs": [],
   "source": [
    "# 統計データ\n",
    "\n",
    "# .std() 標準偏差\n",
    "# .std(ddof=0) 標本標準偏差\n",
    "\n",
    "# describe() 統計量"
   ]
  },
  {
   "cell_type": "code",
   "execution_count": 112,
   "metadata": {},
   "outputs": [
    {
     "data": {
      "text/html": [
       "<div>\n",
       "<style scoped>\n",
       "    .dataframe tbody tr th:only-of-type {\n",
       "        vertical-align: middle;\n",
       "    }\n",
       "\n",
       "    .dataframe tbody tr th {\n",
       "        vertical-align: top;\n",
       "    }\n",
       "\n",
       "    .dataframe thead th {\n",
       "        text-align: right;\n",
       "    }\n",
       "</style>\n",
       "<table border=\"1\" class=\"dataframe\">\n",
       "  <thead>\n",
       "    <tr style=\"text-align: right;\">\n",
       "      <th></th>\n",
       "      <th>A</th>\n",
       "      <th>B</th>\n",
       "    </tr>\n",
       "  </thead>\n",
       "  <tbody>\n",
       "    <tr>\n",
       "      <th>A</th>\n",
       "      <td>1.0</td>\n",
       "      <td>1.0</td>\n",
       "    </tr>\n",
       "    <tr>\n",
       "      <th>B</th>\n",
       "      <td>1.0</td>\n",
       "      <td>1.0</td>\n",
       "    </tr>\n",
       "  </tbody>\n",
       "</table>\n",
       "</div>"
      ],
      "text/plain": [
       "     A    B\n",
       "A  1.0  1.0\n",
       "B  1.0  1.0"
      ]
     },
     "execution_count": 112,
     "metadata": {},
     "output_type": "execute_result"
    }
   ],
   "source": [
    "# 相関係数\n",
    "\n",
    "df.corr()"
   ]
  },
  {
   "cell_type": "code",
   "execution_count": 113,
   "metadata": {},
   "outputs": [],
   "source": [
    "# データ変換\n",
    "\n",
    "#pandasのDataFrameをNumpyの配列(ndarray)に変換\n",
    "# .values"
   ]
  },
  {
   "cell_type": "code",
   "execution_count": 120,
   "metadata": {},
   "outputs": [
    {
     "name": "stdout",
     "output_type": "stream",
     "text": [
      "     A  B      C\n",
      "01  50  a  False\n",
      "02  25  b   True\n",
      "03  35  c   True\n",
      "     A  B    C\n",
      "01  50  a  100\n",
      "02  25  b   50\n",
      "03  35  c   70\n",
      "     A     B    C\n",
      "01  50  high  100\n",
      "02  25   low   50\n",
      "03  35  high   70\n",
      "     A     B    C\n",
      "01  50  high  100\n",
      "02  25   low   50\n",
      "03  35  high   70\n",
      "     A     B   C\n",
      "02  25   low  50\n",
      "03  35  high  70\n",
      "70 high\n"
     ]
    }
   ],
   "source": [
    "import pandas as pd\n",
    "df = pd.DataFrame([[50, \"a\", False],[25, \"b\", True],[35, \"c\", True]])\n",
    "df.index = [\"01\", \"02\", \"03\"]\n",
    "df.columns = [\"A\", \"B\", \"C\"]\n",
    "print(df)\n",
    "\n",
    "def judge(arg):\n",
    "    if arg <= 50:\n",
    "        return \"low\"\n",
    "    elif arg < 70:\n",
    "        return \"middle\"\n",
    "    else:\n",
    "        return \"high\"\n",
    "\n",
    "df.iloc[:, 2] = df.loc[:, \"A\"] * 2\n",
    "print(df)\n",
    "df.iloc[:, 1] = df.loc[:, \"C\"].apply(judge)\n",
    "print(df)\n",
    "_ = df[\"C\"] < 80\n",
    "df = df[_]\n",
    "print(df)\n",
    "print(df.iloc[1, 2], df.iloc[-1, 1])"
   ]
  },
  {
   "cell_type": "code",
   "execution_count": 123,
   "metadata": {},
   "outputs": [
    {
     "name": "stdout",
     "output_type": "stream",
     "text": [
      "            rand\n",
      "2020-01-01     3\n",
      "2020-01-02     3\n",
      "2020-01-03     7\n",
      "2020-01-04     2\n",
      "2020-01-05     4\n",
      "2020-01-06     7\n",
      "2020-01-07     2\n",
      "2020-01-08     1\n",
      "2020-01-09     2\n",
      "2020-01-10     1\n",
      "2020-01-11     1\n",
      "2020-01-12     4\n",
      "2020-01-13     5\n",
      "2020-01-14     1\n",
      "2020-01-15     1\n",
      "2020-01-16     5\n",
      "2020-01-17     2\n",
      "2020-01-18     8\n",
      "2020-01-19     4\n",
      "2020-01-20     3\n",
      "2020-01-21     5\n",
      "2020-01-22     8\n",
      "2020-01-23     3\n",
      "2020-01-24     5\n",
      "2020-01-25     9\n",
      "2020-01-26     1\n",
      "2020-01-27     8\n",
      "2020-01-28     4\n",
      "2020-01-29     5\n",
      "2020-01-30     7\n",
      "2020-01-31     2\n",
      "            rand\n",
      "2020-01-06    26\n",
      "2020-01-13    16\n",
      "2020-01-20    24\n",
      "2020-01-27    39\n",
      "2020-02-03    18\n"
     ]
    }
   ],
   "source": [
    "import numpy as np\n",
    "import pandas as pd\n",
    "np.random.seed(123)\n",
    "dates = pd.date_range(start=\"2020-01-01\", periods=31)\n",
    "df = pd.DataFrame(np.random.randint(1, 10, 31), index=dates, columns=[\"rand\"])\n",
    "print(df)\n",
    "\n",
    "df_year = pd.DataFrame(df.groupby(pd.Grouper(freq='W-MON')).sum(), columns=[\"rand\"] )\n",
    "print(df_year)"
   ]
  },
  {
   "cell_type": "code",
   "execution_count": 49,
   "metadata": {},
   "outputs": [],
   "source": [
    "# Matplotlib(6, 15.0%)\n",
    "\n",
    "# 2次元のグラフの描画\n",
    "# MATLABスタイルとオブジェクト指向スタイル\n",
    "\n",
    "import matplotlib.pyplot as plt\n",
    "\n",
    "import matplotlib.style\n",
    "\n",
    "# ggplotスタイルを指定\n",
    "matplotlib.style.use('ggplot')"
   ]
  },
  {
   "cell_type": "code",
   "execution_count": 50,
   "metadata": {},
   "outputs": [],
   "source": [
    "# MATLABスタイルは数値解析ソフトウェアであるMATLBと似た形式でグラフの描画を行う方法"
   ]
  },
  {
   "cell_type": "code",
   "execution_count": 51,
   "metadata": {},
   "outputs": [
    {
     "data": {
      "image/png": "[encoded data removed]",
      "text/plain": [
       "<Figure size 432x288 with 2 Axes>"
      ]
     },
     "metadata": {},
     "output_type": "display_data"
    }
   ],
   "source": [
    "# オブジェクト指向スタイルは描画オブジェクトに対してサブプロットを追加して、サブプロットに対してグラフを描画する\n",
    "# 1つのfigureオブジェクトに対して複数のサブプロットを指定できる\n",
    "\n",
    "fig, axes = plt.subplots(ncols=2) # ncols=列、nrows=行\n",
    "plt.show()"
   ]
  },
  {
   "cell_type": "code",
   "execution_count": 52,
   "metadata": {},
   "outputs": [
    {
     "data": {
      "text/plain": [
       "['seaborn-dark',\n",
       " 'seaborn-darkgrid',\n",
       " 'seaborn-ticks',\n",
       " 'fivethirtyeight',\n",
       " 'seaborn-whitegrid',\n",
       " 'classic',\n",
       " '_classic_test',\n",
       " 'fast',\n",
       " 'seaborn-talk',\n",
       " 'seaborn-dark-palette',\n",
       " 'seaborn-bright',\n",
       " 'seaborn-pastel',\n",
       " 'grayscale',\n",
       " 'seaborn-notebook',\n",
       " 'ggplot',\n",
       " 'seaborn-colorblind',\n",
       " 'seaborn-muted',\n",
       " 'seaborn',\n",
       " 'Solarize_Light2',\n",
       " 'seaborn-paper',\n",
       " 'bmh',\n",
       " 'tableau-colorblind10',\n",
       " 'seaborn-white',\n",
       " 'dark_background',\n",
       " 'seaborn-poster',\n",
       " 'seaborn-deep']"
      ]
     },
     "execution_count": 52,
     "metadata": {},
     "output_type": "execute_result"
    }
   ],
   "source": [
    "# スタイルの指定\n",
    "\n",
    "# 一覧表示\n",
    "matplotlib.style.available"
   ]
  },
  {
   "cell_type": "code",
   "execution_count": 53,
   "metadata": {},
   "outputs": [],
   "source": [
    "matplotlib.style.use('classic')"
   ]
  },
  {
   "cell_type": "code",
   "execution_count": 55,
   "metadata": {},
   "outputs": [
    {
     "data": {
      "image/png": "[encoded data removed]",
      "text/plain": [
       "<Figure size 640x480 with 2 Axes>"
      ]
     },
     "metadata": {},
     "output_type": "display_data"
    }
   ],
   "source": [
    "# タイトル\n",
    "\n",
    "fig, axes = plt.subplots(ncols=2)\n",
    "\n",
    "# サブプロットにタイトルを設定\n",
    "axes[0].set_title('subplot title 0')\n",
    "axes[1].set_title('subplot title 1')\n",
    "\n",
    "# 描画オブジェクトにタイトルを設定\n",
    "fig.suptitle('figure title')\n",
    "\n",
    "plt.show()"
   ]
  },
  {
   "cell_type": "code",
   "execution_count": 56,
   "metadata": {},
   "outputs": [],
   "source": [
    "# ファイル出力\n",
    "# fig.savefig('')\n",
    "# png, pdf, eps, svgが選択可能"
   ]
  },
  {
   "cell_type": "code",
   "execution_count": 61,
   "metadata": {},
   "outputs": [
    {
     "data": {
      "image/png": "[encoded data removed]",
      "text/plain": [
       "<Figure size 640x480 with 1 Axes>"
      ]
     },
     "metadata": {},
     "output_type": "display_data"
    }
   ],
   "source": [
    "# 折れ線グラフ\n",
    "# plt\n",
    "\n",
    "# 棒グラフ\n",
    "# bar\n",
    "# tick_labels引数を使用すると、目盛りに任意のラベルを指定\n",
    "\n",
    "fig, ax = plt.subplots()\n",
    "\n",
    "x = [1, 2, 3]\n",
    "y = [10, 2, 3]\n",
    "labels = ['spam', 'ham', 'egg']\n",
    "ax.bar(x, y, tick_label=labels) # barhで横向き\n",
    "\n",
    "plt.show()"
   ]
  },
  {
   "cell_type": "code",
   "execution_count": 63,
   "metadata": {},
   "outputs": [
    {
     "data": {
      "image/png": "[encoded data removed]",
      "text/plain": [
       "<Figure size 640x480 with 1 Axes>"
      ]
     },
     "metadata": {},
     "output_type": "display_data"
    }
   ],
   "source": [
    "# 散布図\n",
    "# scatter\n",
    "\n",
    "# ヒストグラム\n",
    "# hist\n",
    "\n",
    "mu  = 100 # 平均値\n",
    "sigma = 15 # 標準偏差\n",
    "x = np.random.normal(mu, sigma, 1000)\n",
    "\n",
    "fig, ax = plt.subplots()\n",
    "\n",
    "# ヒストグラムを描画\n",
    "n, bins, patches = ax.hist(x) # 横向きの場合はorientation='horizontal'\n",
    "# nには各ビン(棒)の度数(要素数)、デフォルトのビンの数は10\n",
    "# binsにはビンの境界の値\n",
    "# patchesのはビンを描画するための情報\n",
    "plt.show()\n",
    "\n",
    "# ヒストグラムでは複数の値を指定すると自動的に横に並べて表示してくれる\n",
    "# 'stacked=True'で積み上げたヒストグラム"
   ]
  },
  {
   "cell_type": "code",
   "execution_count": 72,
   "metadata": {},
   "outputs": [
    {
     "data": {
      "image/png": "[encoded data removed]",
      "text/plain": [
       "<Figure size 640x480 with 1 Axes>"
      ]
     },
     "metadata": {},
     "output_type": "display_data"
    }
   ],
   "source": [
    "# 箱ヒゲ図\n",
    "# boxplot\n",
    "# 横向きは'vert=False'\n",
    "\n",
    "# 円グラフ\n",
    "# pie\n",
    "\n",
    "labels = ['spam', 'ham', 'egg']\n",
    "x = [10, 3, 1]\n",
    "\n",
    "fig, ax = plt.subplots()\n",
    "\n",
    "ax.pie(x, labels=labels, startangle=90, counterclock=False, shadow=True, autopct='%1.2f%%') # デフォルトでは時計の3時\n",
    "ax.axis('equal') # アスペクト比を保持して描画する\n",
    "\n",
    "plt.show()"
   ]
  },
  {
   "cell_type": "code",
   "execution_count": 75,
   "metadata": {},
   "outputs": [
    {
     "data": {
      "image/png": "[encoded data removed]",
      "text/plain": [
       "<Figure size 640x480 with 1 Axes>"
      ]
     },
     "metadata": {},
     "output_type": "display_data"
    }
   ],
   "source": [
    "explode = [0, 0.2, 0]\n",
    "\n",
    "fig, ax = plt.subplots()\n",
    "\n",
    "ax.pie(x, labels=labels, startangle=90, counterclock=False, shadow=True, autopct='%1.2f%%', explode=explode)\n",
    "ax.axis=('equal')\n",
    "\n",
    "plt.show()"
   ]
  },
  {
   "cell_type": "code",
   "execution_count": 76,
   "metadata": {},
   "outputs": [
    {
     "data": {
      "image/png": "[encoded data removed]",
      "text/plain": [
       "<Figure size 640x480 with 1 Axes>"
      ]
     },
     "metadata": {},
     "output_type": "display_data"
    }
   ],
   "source": [
    "# 近似曲線\n",
    "\n",
    "x = np.random.randn(1000) # 正規乱数を生成\n",
    "\n",
    "fig, ax = plt.subplots()\n",
    "\n",
    "# ヒストグラムを描画\n",
    "counts, edges, patches = ax.hist(x, bins=25)\n",
    "\n",
    "# 近似曲線に用いる点を求める(ヒストグラムのビンの中点)\n",
    "x_fit = (edges[:1] + edges[1:]) / 2\n",
    "# 近似曲線をプロット\n",
    "y = 1000 * np.diff(edges) * np.exp(-x_fit**2 / 2) / np.sqrt(2 * np.pi) # sqrtは平方根\n",
    "ax.plot(x_fit, y)\n",
    "\n",
    "plt.show()"
   ]
  },
  {
   "cell_type": "code",
   "execution_count": 77,
   "metadata": {},
   "outputs": [],
   "source": [
    "# スタイル\n",
    "\n",
    "# 棒グラフ\n",
    "# color引数は塗り潰し、edgecolorは枠線\n",
    "# linewidth引数で線の幅、単位はポイント\n",
    "# linestyle引数で線の種類\n",
    "# size引数でフォントサイズ(単位はポイント)\n",
    "# weight引数でフォントの太さ\n",
    "# family引数でフォントの種類\n",
    "\n",
    "# fontdict でフォントスタイルを辞書で定義\n",
    "# {}\n",
    "\n",
    "# テキスト描画\n",
    "# (x座標, y座標, 'テキスト', size=20) フォントのスタイルと同様の引数指定が可能"
   ]
  },
  {
   "cell_type": "code",
   "execution_count": null,
   "metadata": {},
   "outputs": [],
   "source": [
    "# textメソッドを使用するとグラフに任意のテキストを描画できる。第一、第二引数には描画するテキストの左下のX, Y座標を指定する。また、フォントのスタイルと同様の引数の指定もできる。"
   ]
  }
 ],
 "metadata": {
  "kernelspec": {
   "display_name": "Python 3",
   "language": "python",
   "name": "python3"
  },
  "language_info": {
   "codemirror_mode": {
    "name": "ipython",
    "version": 3
   },
   "file_extension": ".py",
   "mimetype": "text/x-python",
   "name": "python",
   "nbconvert_exporter": "python",
   "pygments_lexer": "ipython3",
   "version": "3.7.6"
  }
 },
 "nbformat": 4,
 "nbformat_minor": 4
}
