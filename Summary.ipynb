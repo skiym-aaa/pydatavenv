{
 "cells": [
  {
   "cell_type": "code",
   "execution_count": 1,
   "metadata": {},
   "outputs": [],
   "source": [
    "# 1.データエンジニアの役割(2, 5.0%)\n",
    "\n",
    "# Pythonの得意とする分野\n",
    "# サーバ系ツール\n",
    "# Webシステムの構築\n",
    "# IoTデバイスの操作\n",
    "# 3Dグラフィックス\n",
    "\n",
    "# Pythonの苦手とする分野\n",
    "# Webアプリなどのフロントエンド\n",
    "# デスクトップGUI\n",
    "# 速度向上などのための低レイヤー処理\n",
    "# 超大規模かつミッションクリティカルな処理\n",
    "\n",
    "# Python以外の選択肢\n",
    "# R言語,Excel,VBA,Java\n",
    "\n",
    "# データサイエンティストとは\n",
    "# 数学、情報工学、対象分野の専門知識(ドメイン知識)、データ分析またはデータ解析の一連の処理及び理解・評価を行える立場の職種\n",
    "\n",
    "# データサイエンティストの役割\n",
    "# モデルやアルゴリズムの構築\n",
    "# 新たな解法や新技術への取り組み(研究分野)\n",
    "# 解決したい課題に向き合う実務(実務)\n",
    "# データとの向き合い方の提示\n",
    "# 分析結果の評価\n",
    "\n",
    "# 機械学習以外の選択肢\n",
    "# ルールベース(if文)\n",
    "# ルールベースではプログラミングの条件分岐の要領でデータを容易にルール化できるが、パラメータの数が増えると記述が困難になる。\n",
    "#　統計的手法\n",
    "# 機械学習と非常に親和性の高いアプローチ\n",
    "\n",
    "# 教師あり学習\n",
    "# 正解ラベルがある(目的変数)　⇄　説明変数(特徴データ、特徴量)\n",
    "# 回帰(目的変数が連続値) Ex.売り上げ、気温\n",
    "# 分類(目的変数が離散値) Ex.二値分類、多値分類\n",
    "\n",
    "# 教師なし学習\n",
    "# 正解ラベルなし\n",
    "# クラスタリング(グルーピングしてデータ間の相関を見つける)\n",
    "# 次元削減(大量なデータの種類(説明変数の次元数)をより少ないデータの種類(次元数)で言い表す)\n",
    "# 主成分分析などを用いて計算しやすい数まで説明変数を減らす\n",
    "\n",
    "# 強化学習\n",
    "# ブラックボックス的な環境の中で行動するエージェントが、得られる報酬を最大化するような状態に応じた行動を学習していく\n",
    "\n",
    "# 学習プロセス\n",
    "# ハイパーパラメータ(各アルゴリズムの実行に必要なパラメータ)の設定\n",
    "\n",
    "# パッケージ\n",
    "\n",
    "# Jupyter Notebook\n",
    "# 実行した結果は.ipynb拡張子で内部をJSONで保持\n",
    "\n",
    "# Numpy(数値計算、配列や行列を効率よく扱える)\n",
    "# 内部はC言語で高速\n",
    "\n",
    "# Pandas(Numpyを基盤としたDataFrame構造)\n",
    "# R言語のデータフレームからインスパイア\n",
    "\n",
    "# Scipy(科学技術計算)\n",
    "# scikit-learnの内部で高度な計算処理に多用\n",
    "# 高度な統計処理や線形代数を扱えたり、フーリエ変換などの処理\n"
   ]
  },
  {
   "cell_type": "code",
   "execution_count": 11,
   "metadata": {},
   "outputs": [
    {
     "data": {
      "text/plain": [
       "'Hello Python'"
      ]
     },
     "execution_count": 11,
     "metadata": {},
     "output_type": "execute_result"
    }
   ],
   "source": [
    "# 2.Pythonと環境(5, 12.5%)\n",
    "\n",
    "# venv環境の作成\n",
    "# python3.6 -m venv 仮想環境名\n",
    "# venv環境の削除\n",
    "# rm -rf 仮想環境名\n",
    "\n",
    "# pipコマンド\n",
    "# pip uninstall (-y) パッケージ名\n",
    "# pip install -U パッケージ名(最新版のパッケージをインストール)\n",
    "# pip list -o(新しいバージョンのあるパッケージ一覧)\n",
    "# pip freeze > requirements.txt\n",
    "# pip install -r requirements.txt\n",
    "\n",
    "# Pythonの基礎\n",
    "\n",
    "# コーディング規約(PEP8)\n",
    "# pycodestyle(PEP8のチェックツール)\n",
    "# Flake8(論理的なチェック(定義したが使用していない変数、importして使用していないモジュール))\n",
    "\n",
    "# IPythonの特徴\n",
    "# オブジェクトの後ろに？を付けると、オブジェクトの説明を表示\n",
    "# %ではじまるマジックコマンド(Ex. %timeit, %%timeit)\n",
    "# !でよるシェルコマンドの実行\n",
    "\n",
    "# 基本文法\n",
    "\n",
    "# []はリスト内包　⇄　{}はセット内包\n",
    "# {}&key:valueで辞書内表記\n",
    "names = ['spam', 'ham', 'eggs']\n",
    "{name: len(name) for name in names}"
   ]
  },
  {
   "cell_type": "code",
   "execution_count": 12,
   "metadata": {},
   "outputs": [
    {
     "data": {
      "text/plain": [
       "(0, 1, 4)"
      ]
     },
     "execution_count": 12,
     "metadata": {},
     "output_type": "execute_result"
    }
   ],
   "source": [
    "# ジェネレーター式\n",
    "g = (x*x for x in range(10000))\n",
    "type(g)\n",
    "next(g), next(g), next(g)"
   ]
  },
  {
   "cell_type": "code",
   "execution_count": 13,
   "metadata": {},
   "outputs": [
    {
     "data": {
      "text/plain": [
       "'Hello Python'"
      ]
     },
     "execution_count": 13,
     "metadata": {},
     "output_type": "execute_result"
    }
   ],
   "source": [
    "s1 = 'hello python'\n",
    "s1.title()"
   ]
  },
  {
   "cell_type": "code",
   "execution_count": 14,
   "metadata": {},
   "outputs": [
    {
     "data": {
      "text/plain": [
       "['spam', 'ham', 'eggs']"
      ]
     },
     "execution_count": 14,
     "metadata": {},
     "output_type": "execute_result"
    }
   ],
   "source": [
    "s2 = ' spam  ham       eggs        '\n",
    "s2.split() # 文字列の空白部分で分割"
   ]
  },
  {
   "cell_type": "code",
   "execution_count": 16,
   "metadata": {},
   "outputs": [
    {
     "data": {
      "text/plain": [
       "'spam  ham       eggs'"
      ]
     },
     "execution_count": 16,
     "metadata": {},
     "output_type": "execute_result"
    }
   ],
   "source": [
    "s2.strip() # 左右の空白文字を削除"
   ]
  },
  {
   "cell_type": "code",
   "execution_count": null,
   "metadata": {},
   "outputs": [],
   "source": [
    "# pickleモジュール\n",
    "# Pythonのオブジェクトを直列化してファイルなどで読み書きできるようになる\n",
    "\n",
    "# デフォルトではログレベルはWARINING(警告)以上が出力される"
   ]
  },
  {
   "cell_type": "code",
   "execution_count": 3,
   "metadata": {},
   "outputs": [],
   "source": [
    "# 3.数学の基礎(6, 15.0%)\n",
    "\n",
    "# 「積集合」 2つの集合の共通部分\n",
    "# 「和集合」 全部\n",
    "\n",
    "# 指数関数\n",
    "# 関数の入力が別の数字の肩に乗って使われる関数\n",
    "# シグモイド関数(0, 0.5)\n",
    "# xが大きくなると1に近づき、小さくなると0に近づく\n",
    "\n",
    "# 対数関数(0, 1)\n",
    "# 入力された値が、底の何乗に相当するかを出力する\n",
    "# 「自然対数」 底がネイピア数の時\n",
    "# 「常用対数」 底が10の時\n",
    "# 1の対数は0\n",
    "\n",
    "# 三角関数\n",
    "# sin 「サイン」 = 正弦,垂直方向\n",
    "# cos 「コサイン」 = 余弦 ,水平方向\n",
    "# tan「タンジェント」 = 正接\n",
    "# 「弧度法」 = 1周を2πとする単位(ラジアン)\n",
    "\n",
    "# 双曲線関数\n",
    "# sinhx 「ハイパボリックサイン」\n",
    "# coshx 「ハイパボリックコサイン」 ,懸垂線やカテナリー曲線\n",
    "# tahnx = sinhx / coshx\n",
    "\n",
    "# 線形代数\n",
    "\n",
    "# ベクトル\n",
    "# 丸括弧で数をまとめて表現したもの\n",
    "# スカラー\n",
    "# 単なる一つの数\n",
    "# ノルム\n",
    "# ベクトルの大きさをスカラーで表現する時\n",
    "# ユークリッド距離(2乗和の平方根)\n",
    "# マンハッタン距離(絶対値の距離)\n",
    "\n",
    "# 行列\n",
    "# 行列の掛け算は順番を入れ替えると同じになるとは限らない\n",
    "\n",
    "# 微分と積分\n",
    "\n",
    "# 積分\n",
    "# 積分の記号はインテグラル \n",
    "# 「定積分」 = 積分の範囲が決まっている\n",
    "# 「不定積分」 = 積分の範囲が決まっていない\n",
    "# Fをfの原始関数、fをFの導関数\n",
    "# Cは積分定数=オマケ\n",
    "# f(x) = e^x（eのx乗）は微分してもe^xとなり形が変わらない。これは底がeのときだけ成り立つものであり、ネイピア数を底とする指数関数が解析学で重要な役割を果たす理由の一つである。\n",
    "# 「微分係数」 = 導関数に具体的なxの値を代入して得られる値\n",
    "# 最適化は、関数の最小値や、少なくとも局所的な最小値である極小値を求めることを目標としている\n",
    "\n",
    "# 「共分散」 = それぞれの変数について平均値との差を掛け算する、必ずしも正にならない\n",
    "# 「相関係数」 = 「ピアソンの積率相関係数」 = 共分散を2つの変数の標準偏差で割った値、-1~1の値をとる\n",
    "# スピアマンの順位相関係数が有名、ギリシャ文字のローで表現される\n",
    "# 「確率質量関数」 = 確率変数が離散的\n",
    "# 「確率密度関数」 = 確率変数が連続的\n",
    "# 正規分布\n",
    "# x = 0で最も高い値、左右対象の釣鐘型\n",
    "# 標準正規分布\n",
    "# 平均0、分散1"
   ]
  },
  {
   "cell_type": "code",
   "execution_count": 2,
   "metadata": {},
   "outputs": [
    {
     "data": {
      "text/plain": [
       "numpy.ndarray"
      ]
     },
     "execution_count": 2,
     "metadata": {},
     "output_type": "execute_result"
    }
   ],
   "source": [
    "# 4-1.Numpy(6, 15.0%)\n",
    "\n",
    "# 配列や行列を効率よく扱える\n",
    "# 配列用の型であるndarrayと行列用の型であるmatrix"
   ]
  },
  {
   "cell_type": "code",
   "execution_count": 3,
   "metadata": {},
   "outputs": [
    {
     "data": {
      "text/plain": [
       "numpy.ndarray"
      ]
     },
     "execution_count": 3,
     "metadata": {},
     "output_type": "execute_result"
    }
   ],
   "source": [
    "import numpy as np\n",
    "\n",
    "a = np.array([1, 2, 3])\n",
    "type(a) # オブジェクトの確認"
   ]
  },
  {
   "cell_type": "code",
   "execution_count": 4,
   "metadata": {},
   "outputs": [
    {
     "data": {
      "text/plain": [
       "(3,)"
      ]
     },
     "execution_count": 4,
     "metadata": {},
     "output_type": "execute_result"
    }
   ],
   "source": [
    "a.shape # 要素数"
   ]
  },
  {
   "cell_type": "code",
   "execution_count": 6,
   "metadata": {},
   "outputs": [
    {
     "data": {
      "text/plain": [
       "array([0, 1, 2, 3, 4, 5])"
      ]
     },
     "execution_count": 6,
     "metadata": {},
     "output_type": "execute_result"
    }
   ],
   "source": [
    "c2 = np.array([[0, 1, 2], [3, 4, 5]])\n",
    "c3 = c2.ravel() # 参照(浅いコピー)を返す\n",
    "c3"
   ]
  },
  {
   "cell_type": "code",
   "execution_count": 7,
   "metadata": {},
   "outputs": [
    {
     "data": {
      "text/plain": [
       "array([0, 1, 2, 3, 4, 5])"
      ]
     },
     "execution_count": 7,
     "metadata": {},
     "output_type": "execute_result"
    }
   ],
   "source": [
    "c4 = c2.flatten() # コピー(深いコピー)を返す\n",
    "c4\n",
    "\n",
    "# Pythonの標準のスライスはコピーを返すが、Numpyのスライスは参照を返す"
   ]
  },
  {
   "cell_type": "code",
   "execution_count": 8,
   "metadata": {},
   "outputs": [
    {
     "data": {
      "text/plain": [
       "dtype('int64')"
      ]
     },
     "execution_count": 8,
     "metadata": {},
     "output_type": "execute_result"
    }
   ],
   "source": [
    "# データ型\n",
    "a.dtype　# デフォルトはnp.int64"
   ]
  },
  {
   "cell_type": "code",
   "execution_count": 11,
   "metadata": {},
   "outputs": [
    {
     "data": {
      "text/plain": [
       "dtype('int16')"
      ]
     },
     "execution_count": 11,
     "metadata": {},
     "output_type": "execute_result"
    }
   ],
   "source": [
    "d = np.array([1, 2], dtype=np.int16)\n",
    "d.dtype"
   ]
  },
  {
   "cell_type": "code",
   "execution_count": 12,
   "metadata": {},
   "outputs": [
    {
     "data": {
      "text/plain": [
       "array([1., 2.], dtype=float16)"
      ]
     },
     "execution_count": 12,
     "metadata": {},
     "output_type": "execute_result"
    }
   ],
   "source": [
    "d.astype(np.float16)"
   ]
  },
  {
   "cell_type": "code",
   "execution_count": 14,
   "metadata": {},
   "outputs": [
    {
     "data": {
      "text/plain": [
       "array([[1, 3],\n",
       "       [4, 6]])"
      ]
     },
     "execution_count": 14,
     "metadata": {},
     "output_type": "execute_result"
    }
   ],
   "source": [
    "b = np.array([[1, 2, 3], [4, 5, 6]])\n",
    "b[:, [0, 2]] # 列の値を2つ取得"
   ]
  },
  {
   "cell_type": "code",
   "execution_count": 16,
   "metadata": {},
   "outputs": [
    {
     "data": {
      "text/plain": [
       "array([ 1,  2,  3,  4,  5,  6,  7,  8,  9, 10])"
      ]
     },
     "execution_count": 16,
     "metadata": {},
     "output_type": "execute_result"
    }
   ],
   "source": [
    "# 数列を返す(arange)\n",
    "np.arange(1, 11)"
   ]
  },
  {
   "cell_type": "code",
   "execution_count": 17,
   "metadata": {},
   "outputs": [
    {
     "data": {
      "text/plain": [
       "array([[0.58996137, 0.40919433],\n",
       "       [0.25533108, 0.42105015],\n",
       "       [0.40344491, 0.39151405]])"
      ]
     },
     "execution_count": 17,
     "metadata": {},
     "output_type": "execute_result"
    }
   ],
   "source": [
    "# 乱数\n",
    "np.random.random((3,2)) # 0以上1未満の乱数、タプルで渡す"
   ]
  },
  {
   "cell_type": "code",
   "execution_count": 18,
   "metadata": {},
   "outputs": [
    {
     "data": {
      "text/plain": [
       "array([[0.61495071, 0.87066617],\n",
       "       [0.67060841, 0.97417483],\n",
       "       [0.44191833, 0.72573738],\n",
       "       [0.27541611, 0.94302474]])"
      ]
     },
     "execution_count": 18,
     "metadata": {},
     "output_type": "execute_result"
    }
   ],
   "source": [
    "np.random.rand(4, 2) # (行, 列)"
   ]
  },
  {
   "cell_type": "code",
   "execution_count": 22,
   "metadata": {},
   "outputs": [
    {
     "data": {
      "text/plain": [
       "array([[2, 5, 4],\n",
       "       [2, 5, 2],\n",
       "       [4, 9, 1]])"
      ]
     },
     "execution_count": 22,
     "metadata": {},
     "output_type": "execute_result"
    }
   ],
   "source": [
    "np.random.randint(1, 10, (3,3)) # 第三引数としてタプルで渡した行と列の二次元配列を生成"
   ]
  },
  {
   "cell_type": "code",
   "execution_count": 23,
   "metadata": {},
   "outputs": [
    {
     "data": {
      "text/plain": [
       "array([[4.02450441, 1.90461414, 4.71917166],\n",
       "       [3.94617803, 2.55384088, 3.58548407]])"
      ]
     },
     "execution_count": 23,
     "metadata": {},
     "output_type": "execute_result"
    }
   ],
   "source": [
    "np.random.uniform(0.0, 5.0, size=(2, 3))\n",
    "# 省略すると第一引数は0.0、第二引数は1.0、戻り値は小数値になる"
   ]
  },
  {
   "cell_type": "code",
   "execution_count": 24,
   "metadata": {},
   "outputs": [
    {
     "data": {
      "text/plain": [
       "array([[0.19416114, 0.09077176, 0.55750109],\n",
       "       [0.82631612, 0.15634289, 0.93674716],\n",
       "       [0.0075883 , 0.95631677, 0.22503492],\n",
       "       [0.24282326, 0.87021213, 0.43778568]])"
      ]
     },
     "execution_count": 24,
     "metadata": {},
     "output_type": "execute_result"
    }
   ],
   "source": [
    "np.random.uniform(size=(4, 3))"
   ]
  },
  {
   "cell_type": "code",
   "execution_count": 25,
   "metadata": {},
   "outputs": [
    {
     "data": {
      "text/plain": [
       "array([[ 0.75071375,  0.00189348],\n",
       "       [ 0.38073252,  0.24036409],\n",
       "       [ 0.8241902 , -1.20805645],\n",
       "       [ 1.25815137, -0.90560778]])"
      ]
     },
     "execution_count": 25,
     "metadata": {},
     "output_type": "execute_result"
    }
   ],
   "source": [
    "np.random.randn(4, 2) # 正規分布乱数(標準正規分布(平均0,平均1)の乱数)を生成 ⇄ 一様乱数"
   ]
  },
  {
   "cell_type": "code",
   "execution_count": 26,
   "metadata": {},
   "outputs": [],
   "source": [
    "# np.random.normal(平均, 標準偏差, size=(x, y)) の正規分布乱数"
   ]
  },
  {
   "cell_type": "code",
   "execution_count": 27,
   "metadata": {},
   "outputs": [
    {
     "data": {
      "text/plain": [
       "array([[1., 0., 0.],\n",
       "       [0., 1., 0.],\n",
       "       [0., 0., 1.]])"
      ]
     },
     "execution_count": 27,
     "metadata": {},
     "output_type": "execute_result"
    }
   ],
   "source": [
    "# 単位行列 = 対角成分が1でそれ以外は0\n",
    "np.eye(3)"
   ]
  },
  {
   "cell_type": "code",
   "execution_count": 29,
   "metadata": {},
   "outputs": [
    {
     "data": {
      "text/plain": [
       "array([[3.14, 3.14, 3.14, 3.14],\n",
       "       [3.14, 3.14, 3.14, 3.14]])"
      ]
     },
     "execution_count": 29,
     "metadata": {},
     "output_type": "execute_result"
    }
   ],
   "source": [
    "# 指定値で埋める\n",
    "np.full((2, 4), 3.14)"
   ]
  },
  {
   "cell_type": "code",
   "execution_count": 30,
   "metadata": {},
   "outputs": [
    {
     "data": {
      "text/plain": [
       "array([0.  , 0.25, 0.5 , 0.75, 1.  ])"
      ]
     },
     "execution_count": 30,
     "metadata": {},
     "output_type": "execute_result"
    }
   ],
   "source": [
    "# 範囲指定で均等割りデータの作成\n",
    "np.linspace(0, 1, 5) # np.arange(0, 1.1, 0.25)と同じ"
   ]
  },
  {
   "cell_type": "code",
   "execution_count": 34,
   "metadata": {},
   "outputs": [
    {
     "data": {
      "text/plain": [
       "array([ 0,  4, -5,  2])"
      ]
     },
     "execution_count": 34,
     "metadata": {},
     "output_type": "execute_result"
    }
   ],
   "source": [
    "# 要素間の差\n",
    "l = np.array([2, 2, 6, 1, 3])\n",
    "np.diff(l) # 前後の差を出力"
   ]
  },
  {
   "cell_type": "code",
   "execution_count": 42,
   "metadata": {},
   "outputs": [
    {
     "data": {
      "text/plain": [
       "array([[ 1,  2,  3, 10],\n",
       "       [ 4,  5,  6, 20]])"
      ]
     },
     "execution_count": 42,
     "metadata": {},
     "output_type": "execute_result"
    }
   ],
   "source": [
    "# 連結\n",
    "b1 = np.array([[10], [20]])\n",
    "np.concatenate([b, b1], axis = 1) # 列方向"
   ]
  },
  {
   "cell_type": "code",
   "execution_count": 43,
   "metadata": {},
   "outputs": [
    {
     "data": {
      "text/plain": [
       "array([[ 1,  2,  3, 10],\n",
       "       [ 4,  5,  6, 20]])"
      ]
     },
     "execution_count": 43,
     "metadata": {},
     "output_type": "execute_result"
    }
   ],
   "source": [
    "np.hstack([b, b1])"
   ]
  },
  {
   "cell_type": "code",
   "execution_count": 45,
   "metadata": {},
   "outputs": [
    {
     "data": {
      "text/plain": [
       "array([[ 1,  2,  3],\n",
       "       [ 4,  5,  6],\n",
       "       [30, 60, 45]])"
      ]
     },
     "execution_count": 45,
     "metadata": {},
     "output_type": "execute_result"
    }
   ],
   "source": [
    "b2 = np.array([30, 60, 45])\n",
    "b3 = np.vstack([b, b2]) # 行方向\n",
    "b3"
   ]
  },
  {
   "cell_type": "code",
   "execution_count": 48,
   "metadata": {},
   "outputs": [
    {
     "data": {
      "text/plain": [
       "array([[ 1,  2],\n",
       "       [ 4,  5],\n",
       "       [30, 60]])"
      ]
     },
     "execution_count": 48,
     "metadata": {},
     "output_type": "execute_result"
    }
   ],
   "source": [
    "# 分割\n",
    "first, second = np.hsplit(b3, [2])\n",
    "first"
   ]
  },
  {
   "cell_type": "code",
   "execution_count": 49,
   "metadata": {},
   "outputs": [
    {
     "data": {
      "text/plain": [
       "array([[ 3],\n",
       "       [ 6],\n",
       "       [45]])"
      ]
     },
     "execution_count": 49,
     "metadata": {},
     "output_type": "execute_result"
    }
   ],
   "source": [
    "second"
   ]
  },
  {
   "cell_type": "code",
   "execution_count": 50,
   "metadata": {},
   "outputs": [
    {
     "data": {
      "text/plain": [
       "array([[1, 2, 3],\n",
       "       [4, 5, 6]])"
      ]
     },
     "execution_count": 50,
     "metadata": {},
     "output_type": "execute_result"
    }
   ],
   "source": [
    "first1, second2 = np.vsplit(b3, [2])\n",
    "first1"
   ]
  },
  {
   "cell_type": "code",
   "execution_count": 52,
   "metadata": {},
   "outputs": [
    {
     "data": {
      "text/plain": [
       "array([[30, 60, 45]])"
      ]
     },
     "execution_count": 52,
     "metadata": {},
     "output_type": "execute_result"
    }
   ],
   "source": [
    "second2"
   ]
  },
  {
   "cell_type": "code",
   "execution_count": 53,
   "metadata": {},
   "outputs": [
    {
     "data": {
      "text/plain": [
       "array([[1, 2, 3],\n",
       "       [4, 5, 6]])"
      ]
     },
     "execution_count": 53,
     "metadata": {},
     "output_type": "execute_result"
    }
   ],
   "source": [
    "# 転置(行と列を入れ替えること)\n",
    "b"
   ]
  },
  {
   "cell_type": "code",
   "execution_count": 54,
   "metadata": {},
   "outputs": [
    {
     "data": {
      "text/plain": [
       "array([[1, 4],\n",
       "       [2, 5],\n",
       "       [3, 6]])"
      ]
     },
     "execution_count": 54,
     "metadata": {},
     "output_type": "execute_result"
    }
   ],
   "source": [
    "b.T"
   ]
  },
  {
   "cell_type": "code",
   "execution_count": 55,
   "metadata": {},
   "outputs": [
    {
     "data": {
      "text/plain": [
       "array([1, 2, 3])"
      ]
     },
     "execution_count": 55,
     "metadata": {},
     "output_type": "execute_result"
    }
   ],
   "source": [
    "# 次元追加\n",
    "a"
   ]
  },
  {
   "cell_type": "code",
   "execution_count": 58,
   "metadata": {},
   "outputs": [
    {
     "data": {
      "text/plain": [
       "array([[1, 2, 3]])"
      ]
     },
     "execution_count": 58,
     "metadata": {},
     "output_type": "execute_result"
    }
   ],
   "source": [
    "a[np.newaxis, :] # 行方向に追加"
   ]
  },
  {
   "cell_type": "code",
   "execution_count": 60,
   "metadata": {},
   "outputs": [
    {
     "data": {
      "text/plain": [
       "array([[1],\n",
       "       [2],\n",
       "       [3]])"
      ]
     },
     "execution_count": 60,
     "metadata": {},
     "output_type": "execute_result"
    }
   ],
   "source": [
    "a[:, np.newaxis] # 列方向に追加"
   ]
  },
  {
   "cell_type": "code",
   "execution_count": 61,
   "metadata": {},
   "outputs": [
    {
     "data": {
      "text/plain": [
       "array([0, 1, 2, 3])"
      ]
     },
     "execution_count": 61,
     "metadata": {},
     "output_type": "execute_result"
    }
   ],
   "source": [
    "# グリッドデータの生成\n",
    "# meshgrid関数は2次元上の点に対応する等高線やヒートマップなどを描くときに使用する\n",
    "# x座標、y座標の配列から、それらを組み合わせてできるすべての点の座標データを生成する\n",
    "\n",
    "m = np.arange(0, 4)\n",
    "m"
   ]
  },
  {
   "cell_type": "code",
   "execution_count": 62,
   "metadata": {},
   "outputs": [
    {
     "data": {
      "text/plain": [
       "array([4, 5, 6])"
      ]
     },
     "execution_count": 62,
     "metadata": {},
     "output_type": "execute_result"
    }
   ],
   "source": [
    "n = np.arange(4, 7)\n",
    "n"
   ]
  },
  {
   "cell_type": "code",
   "execution_count": 64,
   "metadata": {},
   "outputs": [
    {
     "data": {
      "text/plain": [
       "array([[0, 1, 2, 3],\n",
       "       [0, 1, 2, 3],\n",
       "       [0, 1, 2, 3]])"
      ]
     },
     "execution_count": 64,
     "metadata": {},
     "output_type": "execute_result"
    }
   ],
   "source": [
    "xx, yy = np.meshgrid(m, n)\n",
    "xx"
   ]
  },
  {
   "cell_type": "code",
   "execution_count": 65,
   "metadata": {},
   "outputs": [
    {
     "data": {
      "text/plain": [
       "array([[4, 4, 4, 4],\n",
       "       [5, 5, 5, 5],\n",
       "       [6, 6, 6, 6]])"
      ]
     },
     "execution_count": 65,
     "metadata": {},
     "output_type": "execute_result"
    }
   ],
   "source": [
    "yy"
   ]
  },
  {
   "cell_type": "code",
   "execution_count": 66,
   "metadata": {},
   "outputs": [
    {
     "data": {
      "text/plain": [
       "array([[1, 2, 3],\n",
       "       [4, 5, 6]])"
      ]
     },
     "execution_count": 66,
     "metadata": {},
     "output_type": "execute_result"
    }
   ],
   "source": [
    "# ユニバーサルファンクション\n",
    "# Numpyの強烈なツールの一つ、配列要素内のデータを一括で変換\n",
    "\n",
    "np.abs(b)"
   ]
  },
  {
   "cell_type": "code",
   "execution_count": 70,
   "metadata": {},
   "outputs": [
    {
     "data": {
      "text/plain": [
       "array([0.54030231, 0.71247462, 0.84960756, 0.94495695, 0.99383351,\n",
       "       0.99383351, 0.94495695, 0.84960756, 0.71247462, 0.54030231])"
      ]
     },
     "execution_count": 70,
     "metadata": {},
     "output_type": "execute_result"
    }
   ],
   "source": [
    "e = np.linspace(-1, 1, 10)\n",
    "np.sin(e)\n",
    "np.cos(e)"
   ]
  },
  {
   "cell_type": "code",
   "execution_count": 74,
   "metadata": {},
   "outputs": [
    {
     "name": "stderr",
     "output_type": "stream",
     "text": [
      "/Users/yukisakiyama/opt/anaconda3/lib/python3.7/site-packages/ipykernel_launcher.py:2: RuntimeWarning: divide by zero encountered in log\n",
      "  \n"
     ]
    },
    {
     "data": {
      "text/plain": [
       "array([      -inf, 0.        , 0.69314718])"
      ]
     },
     "execution_count": 74,
     "metadata": {},
     "output_type": "execute_result"
    }
   ],
   "source": [
    "a = np.arange(3)\n",
    "np.log(a)"
   ]
  },
  {
   "cell_type": "code",
   "execution_count": 76,
   "metadata": {},
   "outputs": [
    {
     "data": {
      "text/plain": [
       "array([[0.        , 0.30103   , 0.47712125],\n",
       "       [0.60205999, 0.69897   , 0.77815125]])"
      ]
     },
     "execution_count": 76,
     "metadata": {},
     "output_type": "execute_result"
    }
   ],
   "source": [
    "c = np.arange(1, 7).reshape((2, 3))\n",
    "np.log10(c)"
   ]
  },
  {
   "cell_type": "code",
   "execution_count": 77,
   "metadata": {},
   "outputs": [
    {
     "data": {
      "text/plain": [
       "array([1.        , 2.71828183, 7.3890561 ])"
      ]
     },
     "execution_count": 77,
     "metadata": {},
     "output_type": "execute_result"
    }
   ],
   "source": [
    "np.exp(a)"
   ]
  },
  {
   "cell_type": "code",
   "execution_count": 78,
   "metadata": {},
   "outputs": [
    {
     "data": {
      "text/plain": [
       "array([0, 1, 2])"
      ]
     },
     "execution_count": 78,
     "metadata": {},
     "output_type": "execute_result"
    }
   ],
   "source": [
    "# ブロードキャスト\n",
    "# 配列の内部データに直接演算などが行えるNumpyにとって非常に強烈な機能\n",
    "a"
   ]
  },
  {
   "cell_type": "code",
   "execution_count": 79,
   "metadata": {},
   "outputs": [
    {
     "data": {
      "text/plain": [
       "array([10, 11, 12])"
      ]
     },
     "execution_count": 79,
     "metadata": {},
     "output_type": "execute_result"
    }
   ],
   "source": [
    "a + 10"
   ]
  },
  {
   "cell_type": "code",
   "execution_count": 80,
   "metadata": {},
   "outputs": [
    {
     "data": {
      "text/plain": [
       "array([[1, 2, 3],\n",
       "       [4, 5, 6]])"
      ]
     },
     "execution_count": 80,
     "metadata": {},
     "output_type": "execute_result"
    }
   ],
   "source": [
    "b"
   ]
  },
  {
   "cell_type": "code",
   "execution_count": 81,
   "metadata": {},
   "outputs": [
    {
     "data": {
      "text/plain": [
       "array([[1, 3, 5],\n",
       "       [4, 6, 8]])"
      ]
     },
     "execution_count": 81,
     "metadata": {},
     "output_type": "execute_result"
    }
   ],
   "source": [
    "a + b"
   ]
  },
  {
   "cell_type": "code",
   "execution_count": 82,
   "metadata": {},
   "outputs": [
    {
     "data": {
      "text/plain": [
       "array([[0],\n",
       "       [1],\n",
       "       [2]])"
      ]
     },
     "execution_count": 82,
     "metadata": {},
     "output_type": "execute_result"
    }
   ],
   "source": [
    "a1 = a[:, np.newaxis]\n",
    "a1"
   ]
  },
  {
   "cell_type": "code",
   "execution_count": 83,
   "metadata": {},
   "outputs": [
    {
     "data": {
      "text/plain": [
       "array([[0, 1, 2],\n",
       "       [1, 2, 3],\n",
       "       [2, 3, 4]])"
      ]
     },
     "execution_count": 83,
     "metadata": {},
     "output_type": "execute_result"
    }
   ],
   "source": [
    "a + a1"
   ]
  },
  {
   "cell_type": "code",
   "execution_count": 84,
   "metadata": {},
   "outputs": [
    {
     "name": "stderr",
     "output_type": "stream",
     "text": [
      "/Users/yukisakiyama/opt/anaconda3/lib/python3.7/site-packages/ipykernel_launcher.py:2: RuntimeWarning: divide by zero encountered in true_divide\n",
      "  \n"
     ]
    },
    {
     "data": {
      "text/plain": [
       "array([[inf, 2. , 1.5],\n",
       "       [inf, 5. , 3. ]])"
      ]
     },
     "execution_count": 84,
     "metadata": {},
     "output_type": "execute_result"
    }
   ],
   "source": [
    "# 要素に0を含む割り算を実行すると無限大を表すinf\n",
    "c / a"
   ]
  },
  {
   "cell_type": "code",
   "execution_count": 85,
   "metadata": {},
   "outputs": [
    {
     "data": {
      "text/plain": [
       "array([[1.00000000e+06, 1.99999800e+00, 1.49999925e+00],\n",
       "       [4.00000000e+06, 4.99999500e+00, 2.99999850e+00]])"
      ]
     },
     "execution_count": 85,
     "metadata": {},
     "output_type": "execute_result"
    }
   ],
   "source": [
    "# 微妙な数値を足す\n",
    "c / (a+1e-6)\n",
    "# 0以外で割る要素は計算結果としてほぼ同じ数値、0で割る要素は非常に大きな数値"
   ]
  },
  {
   "cell_type": "code",
   "execution_count": 86,
   "metadata": {},
   "outputs": [
    {
     "data": {
      "text/plain": [
       "array([ 8, 17])"
      ]
     },
     "execution_count": 86,
     "metadata": {},
     "output_type": "execute_result"
    }
   ],
   "source": [
    "# ドット積\n",
    "np.dot(b, a)"
   ]
  },
  {
   "cell_type": "code",
   "execution_count": 87,
   "metadata": {},
   "outputs": [
    {
     "data": {
      "text/plain": [
       "array([ 8, 17])"
      ]
     },
     "execution_count": 87,
     "metadata": {},
     "output_type": "execute_result"
    }
   ],
   "source": [
    "b @ a"
   ]
  },
  {
   "cell_type": "code",
   "execution_count": 88,
   "metadata": {},
   "outputs": [
    {
     "data": {
      "text/plain": [
       "True"
      ]
     },
     "execution_count": 88,
     "metadata": {},
     "output_type": "execute_result"
    }
   ],
   "source": [
    "# 判定・論理値\n",
    "np.any(b > 0) # 要素の中にTrueが含まれているか確認"
   ]
  },
  {
   "cell_type": "code",
   "execution_count": 89,
   "metadata": {},
   "outputs": [
    {
     "data": {
      "text/plain": [
       "array([1, 2, 3, 4, 5, 6])"
      ]
     },
     "execution_count": 89,
     "metadata": {},
     "output_type": "execute_result"
    }
   ],
   "source": [
    "b[b > 0] # 条件に合致した新たな配列の作成"
   ]
  },
  {
   "cell_type": "code",
   "execution_count": 91,
   "metadata": {},
   "outputs": [
    {
     "data": {
      "text/plain": [
       "True"
      ]
     },
     "execution_count": 91,
     "metadata": {},
     "output_type": "execute_result"
    }
   ],
   "source": [
    "np.allclose(b, c, atol=10) # 誤差の範囲か確認"
   ]
  },
  {
   "cell_type": "code",
   "execution_count": 101,
   "metadata": {},
   "outputs": [],
   "source": [
    "# 4-2.pandas(7, 17.5%)\n",
    "\n",
    "# データ分析ツール、データの入手や加工に使われる\n",
    "# シリーズ(Series)とデータフレーム(DataFrame)型\n",
    "\n",
    "import pandas as pd"
   ]
  },
  {
   "cell_type": "code",
   "execution_count": 99,
   "metadata": {},
   "outputs": [
    {
     "data": {
      "text/plain": [
       "0    10\n",
       "1    20\n",
       "2    30\n",
       "3    40\n",
       "dtype: int64"
      ]
     },
     "execution_count": 99,
     "metadata": {},
     "output_type": "execute_result"
    }
   ],
   "source": [
    "# Series = 1次元データ\n",
    "# デフォルトのデータ型は'int64'\n",
    "\n",
    "ser = pd.Series([10, 20, 30, 40])\n",
    "ser"
   ]
  },
  {
   "cell_type": "code",
   "execution_count": 103,
   "metadata": {},
   "outputs": [
    {
     "data": {
      "text/html": [
       "<div>\n",
       "<style scoped>\n",
       "    .dataframe tbody tr th:only-of-type {\n",
       "        vertical-align: middle;\n",
       "    }\n",
       "\n",
       "    .dataframe tbody tr th {\n",
       "        vertical-align: top;\n",
       "    }\n",
       "\n",
       "    .dataframe thead th {\n",
       "        text-align: right;\n",
       "    }\n",
       "</style>\n",
       "<table border=\"1\" class=\"dataframe\">\n",
       "  <thead>\n",
       "    <tr style=\"text-align: right;\">\n",
       "      <th></th>\n",
       "      <th>0</th>\n",
       "      <th>1</th>\n",
       "    </tr>\n",
       "  </thead>\n",
       "  <tbody>\n",
       "    <tr>\n",
       "      <th>0</th>\n",
       "      <td>0</td>\n",
       "      <td>1</td>\n",
       "    </tr>\n",
       "    <tr>\n",
       "      <th>1</th>\n",
       "      <td>2</td>\n",
       "      <td>3</td>\n",
       "    </tr>\n",
       "    <tr>\n",
       "      <th>2</th>\n",
       "      <td>4</td>\n",
       "      <td>5</td>\n",
       "    </tr>\n",
       "  </tbody>\n",
       "</table>\n",
       "</div>"
      ],
      "text/plain": [
       "   0  1\n",
       "0  0  1\n",
       "1  2  3\n",
       "2  4  5"
      ]
     },
     "execution_count": 103,
     "metadata": {},
     "output_type": "execute_result"
    }
   ],
   "source": [
    "# DataFrame = 2次元データ\n",
    "\n",
    "df = pd.DataFrame(np.arange(6).reshape((3, 2)))\n",
    "df"
   ]
  },
  {
   "cell_type": "code",
   "execution_count": 105,
   "metadata": {},
   "outputs": [
    {
     "data": {
      "text/html": [
       "<div>\n",
       "<style scoped>\n",
       "    .dataframe tbody tr th:only-of-type {\n",
       "        vertical-align: middle;\n",
       "    }\n",
       "\n",
       "    .dataframe tbody tr th {\n",
       "        vertical-align: top;\n",
       "    }\n",
       "\n",
       "    .dataframe thead th {\n",
       "        text-align: right;\n",
       "    }\n",
       "</style>\n",
       "<table border=\"1\" class=\"dataframe\">\n",
       "  <thead>\n",
       "    <tr style=\"text-align: right;\">\n",
       "      <th></th>\n",
       "      <th>A</th>\n",
       "      <th>B</th>\n",
       "    </tr>\n",
       "  </thead>\n",
       "  <tbody>\n",
       "    <tr>\n",
       "      <th>01</th>\n",
       "      <td>0</td>\n",
       "      <td>1</td>\n",
       "    </tr>\n",
       "    <tr>\n",
       "      <th>02</th>\n",
       "      <td>2</td>\n",
       "      <td>3</td>\n",
       "    </tr>\n",
       "    <tr>\n",
       "      <th>03</th>\n",
       "      <td>4</td>\n",
       "      <td>5</td>\n",
       "    </tr>\n",
       "  </tbody>\n",
       "</table>\n",
       "</div>"
      ],
      "text/plain": [
       "    A  B\n",
       "01  0  1\n",
       "02  2  3\n",
       "03  4  5"
      ]
     },
     "execution_count": 105,
     "metadata": {},
     "output_type": "execute_result"
    }
   ],
   "source": [
    "df.index = [\"01\", \"02\", \"03\"]\n",
    "df.columns = [\"A\", \"B\"]\n",
    "df"
   ]
  },
  {
   "cell_type": "code",
   "execution_count": 106,
   "metadata": {},
   "outputs": [
    {
     "ename": "NameError",
     "evalue": "name 'インデックス名' is not defined",
     "output_type": "error",
     "traceback": [
      "\u001b[0;31m---------------------------------------------------------------------------\u001b[0m",
      "\u001b[0;31mNameError\u001b[0m                                 Traceback (most recent call last)",
      "\u001b[0;32m<ipython-input-106-edf93f142332>\u001b[0m in \u001b[0;36m<module>\u001b[0;34m\u001b[0m\n\u001b[1;32m      1\u001b[0m \u001b[0;31m# データの抽出\u001b[0m\u001b[0;34m\u001b[0m\u001b[0;34m\u001b[0m\u001b[0;34m\u001b[0m\u001b[0m\n\u001b[0;32m----> 2\u001b[0;31m \u001b[0mdf\u001b[0m\u001b[0;34m.\u001b[0m\u001b[0mloc\u001b[0m\u001b[0;34m[\u001b[0m\u001b[0mインデックス名\u001b[0m\u001b[0;34m,\u001b[0m \u001b[0mカラム名\u001b[0m\u001b[0;34m]\u001b[0m\u001b[0;34m\u001b[0m\u001b[0;34m\u001b[0m\u001b[0m\n\u001b[0m\u001b[1;32m      3\u001b[0m \u001b[0mdf\u001b[0m\u001b[0;34m.\u001b[0m\u001b[0miloc\u001b[0m\u001b[0;34m[\u001b[0m\u001b[0mインデックス番号\u001b[0m\u001b[0;34m,\u001b[0m \u001b[0mカラム番号\u001b[0m\u001b[0;34m]\u001b[0m\u001b[0;34m\u001b[0m\u001b[0;34m\u001b[0m\u001b[0m\n",
      "\u001b[0;31mNameError\u001b[0m: name 'インデックス名' is not defined"
     ]
    }
   ],
   "source": [
    "# データの抽出\n",
    "# df.loc[インデックス名, カラム名]\n",
    "# df.iloc[インデックス番号, カラム番号]"
   ]
  },
  {
   "cell_type": "code",
   "execution_count": 107,
   "metadata": {},
   "outputs": [],
   "source": [
    "# データの読み込み\n",
    "\n",
    "# pd.read_csv\n",
    "# pd.read_excel\n",
    "\n",
    "# pd.read_html(url)\n",
    "# webサイトのHTML内にあるtable要素を抜き出す\n",
    "\n",
    "# データの書き込み\n",
    "\n",
    "# df.to_csv\n",
    "# df.to_excel\n",
    "\n",
    "# データの再利用\n",
    "\n",
    "# df.to_pickle\n",
    "# pd.read_pickle\n",
    "# Pythonオブジェクトを直列化し、ファイルへの書き込み及び読み込みを可能"
   ]
  },
  {
   "cell_type": "code",
   "execution_count": 108,
   "metadata": {},
   "outputs": [],
   "source": [
    "# データの整形\n",
    "\n",
    "# df.query\n",
    "# SQL構文のように条件を書き抽出\n",
    "\n",
    "# .apply(pd.to_datetime)\n",
    "# データ型変更\n",
    "\n",
    "# df.sort_values(by=\"\") 昇順\n",
    "# df.sort_values(by=\"\", ascending=False) 降順\n",
    "\n",
    "#df_moved = pd.get_dummies(df.loc[:, \"運動指数\"], prefix=\"運動\") get_dummiesで0,1、prefixで先頭の文字指定\n",
    "\n",
    "# df.groupby(pd.Grouper(freq='M')).mean\n",
    "# freq='M'で月ごとのデータ\n",
    "# freq=\"W-SAT\"で土曜日のデータ"
   ]
  },
  {
   "cell_type": "code",
   "execution_count": 109,
   "metadata": {},
   "outputs": [],
   "source": [
    "# 欠損値の処理\n",
    "\n",
    "# dropna\n",
    "# 欠損値の行の削除\n",
    "\n",
    "# fillna()\n",
    "# fillna(method='ffill') 直前\n",
    "# fillna(method= bfill') 直後\n",
    "# .mode().iloc[0, :] 最頻値"
   ]
  },
  {
   "cell_type": "code",
   "execution_count": 110,
   "metadata": {},
   "outputs": [],
   "source": [
    "# データ連結\n",
    "\n",
    "# concat関数\n",
    "# 列方向 axis=0\n",
    "# 行方向 axis=1"
   ]
  },
  {
   "cell_type": "code",
   "execution_count": 111,
   "metadata": {},
   "outputs": [],
   "source": [
    "# 統計データ\n",
    "\n",
    "# .std() 標準偏差\n",
    "# .std(ddof=0) 標本標準偏差\n",
    "\n",
    "# describe() 統計量"
   ]
  },
  {
   "cell_type": "code",
   "execution_count": 112,
   "metadata": {},
   "outputs": [
    {
     "data": {
      "text/html": [
       "<div>\n",
       "<style scoped>\n",
       "    .dataframe tbody tr th:only-of-type {\n",
       "        vertical-align: middle;\n",
       "    }\n",
       "\n",
       "    .dataframe tbody tr th {\n",
       "        vertical-align: top;\n",
       "    }\n",
       "\n",
       "    .dataframe thead th {\n",
       "        text-align: right;\n",
       "    }\n",
       "</style>\n",
       "<table border=\"1\" class=\"dataframe\">\n",
       "  <thead>\n",
       "    <tr style=\"text-align: right;\">\n",
       "      <th></th>\n",
       "      <th>A</th>\n",
       "      <th>B</th>\n",
       "    </tr>\n",
       "  </thead>\n",
       "  <tbody>\n",
       "    <tr>\n",
       "      <th>A</th>\n",
       "      <td>1.0</td>\n",
       "      <td>1.0</td>\n",
       "    </tr>\n",
       "    <tr>\n",
       "      <th>B</th>\n",
       "      <td>1.0</td>\n",
       "      <td>1.0</td>\n",
       "    </tr>\n",
       "  </tbody>\n",
       "</table>\n",
       "</div>"
      ],
      "text/plain": [
       "     A    B\n",
       "A  1.0  1.0\n",
       "B  1.0  1.0"
      ]
     },
     "execution_count": 112,
     "metadata": {},
     "output_type": "execute_result"
    }
   ],
   "source": [
    "# 相関係数\n",
    "\n",
    "df.corr()"
   ]
  },
  {
   "cell_type": "code",
   "execution_count": 113,
   "metadata": {},
   "outputs": [],
   "source": [
    "# データ変換\n",
    "\n",
    "#pandasのDataFrameをNumpyの配列(ndarray)に変換\n",
    "# .values"
   ]
  },
  {
   "cell_type": "code",
   "execution_count": 120,
   "metadata": {},
   "outputs": [
    {
     "name": "stdout",
     "output_type": "stream",
     "text": [
      "     A  B      C\n",
      "01  50  a  False\n",
      "02  25  b   True\n",
      "03  35  c   True\n",
      "     A  B    C\n",
      "01  50  a  100\n",
      "02  25  b   50\n",
      "03  35  c   70\n",
      "     A     B    C\n",
      "01  50  high  100\n",
      "02  25   low   50\n",
      "03  35  high   70\n",
      "     A     B    C\n",
      "01  50  high  100\n",
      "02  25   low   50\n",
      "03  35  high   70\n",
      "     A     B   C\n",
      "02  25   low  50\n",
      "03  35  high  70\n",
      "70 high\n"
     ]
    }
   ],
   "source": [
    "import pandas as pd\n",
    "df = pd.DataFrame([[50, \"a\", False],[25, \"b\", True],[35, \"c\", True]])\n",
    "df.index = [\"01\", \"02\", \"03\"]\n",
    "df.columns = [\"A\", \"B\", \"C\"]\n",
    "print(df)\n",
    "\n",
    "def judge(arg):\n",
    "    if arg <= 50:\n",
    "        return \"low\"\n",
    "    elif arg < 70:\n",
    "        return \"middle\"\n",
    "    else:\n",
    "        return \"high\"\n",
    "\n",
    "df.iloc[:, 2] = df.loc[:, \"A\"] * 2\n",
    "print(df)\n",
    "df.iloc[:, 1] = df.loc[:, \"C\"].apply(judge)\n",
    "print(df)\n",
    "_ = df[\"C\"] < 80\n",
    "df = df[_]\n",
    "print(df)\n",
    "print(df.iloc[1, 2], df.iloc[-1, 1])"
   ]
  },
  {
   "cell_type": "code",
   "execution_count": 123,
   "metadata": {},
   "outputs": [
    {
     "name": "stdout",
     "output_type": "stream",
     "text": [
      "            rand\n",
      "2020-01-01     3\n",
      "2020-01-02     3\n",
      "2020-01-03     7\n",
      "2020-01-04     2\n",
      "2020-01-05     4\n",
      "2020-01-06     7\n",
      "2020-01-07     2\n",
      "2020-01-08     1\n",
      "2020-01-09     2\n",
      "2020-01-10     1\n",
      "2020-01-11     1\n",
      "2020-01-12     4\n",
      "2020-01-13     5\n",
      "2020-01-14     1\n",
      "2020-01-15     1\n",
      "2020-01-16     5\n",
      "2020-01-17     2\n",
      "2020-01-18     8\n",
      "2020-01-19     4\n",
      "2020-01-20     3\n",
      "2020-01-21     5\n",
      "2020-01-22     8\n",
      "2020-01-23     3\n",
      "2020-01-24     5\n",
      "2020-01-25     9\n",
      "2020-01-26     1\n",
      "2020-01-27     8\n",
      "2020-01-28     4\n",
      "2020-01-29     5\n",
      "2020-01-30     7\n",
      "2020-01-31     2\n",
      "            rand\n",
      "2020-01-06    26\n",
      "2020-01-13    16\n",
      "2020-01-20    24\n",
      "2020-01-27    39\n",
      "2020-02-03    18\n"
     ]
    }
   ],
   "source": [
    "import numpy as np\n",
    "import pandas as pd\n",
    "np.random.seed(123)\n",
    "dates = pd.date_range(start=\"2020-01-01\", periods=31)\n",
    "df = pd.DataFrame(np.random.randint(1, 10, 31), index=dates, columns=[\"rand\"])\n",
    "print(df)\n",
    "\n",
    "df_year = pd.DataFrame(df.groupby(pd.Grouper(freq='W-MON')).sum(), columns=[\"rand\"] )\n",
    "print(df_year)"
   ]
  },
  {
   "cell_type": "code",
   "execution_count": null,
   "metadata": {},
   "outputs": [],
   "source": []
  }
 ],
 "metadata": {
  "kernelspec": {
   "display_name": "Python 3",
   "language": "python",
   "name": "python3"
  },
  "language_info": {
   "codemirror_mode": {
    "name": "ipython",
    "version": 3
   },
   "file_extension": ".py",
   "mimetype": "text/x-python",
   "name": "python",
   "nbconvert_exporter": "python",
   "pygments_lexer": "ipython3",
   "version": "3.7.6"
  }
 },
 "nbformat": 4,
 "nbformat_minor": 4
}
