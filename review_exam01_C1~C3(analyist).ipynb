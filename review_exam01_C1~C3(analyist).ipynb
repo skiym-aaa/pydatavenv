{
 "cells": [
  {
   "cell_type": "code",
   "execution_count": 1,
   "metadata": {},
   "outputs": [],
   "source": [
    "# C1 データエンジニアの役割(2, 5.0%)\n",
    "\n",
    "# Pythonの特徴\n",
    "# 言語としての仕様が分かりやすい\n",
    "# コンパイル不要な動的スクリプト言語\n",
    "# 豊富な標準ライブラリと外部パッケージ\n",
    "# データ分析以外にも応用範囲が広い\n",
    "# オープンソース\n",
    "\n",
    "# Pythonが得意とする分野\n",
    "# サーバ系ツール\n",
    "# Webシステムの構築\n",
    "# Iotデバイスの動作\n",
    "# 3Dグラフィックス\n",
    "\n",
    "# Pythonが苦手とする分野\n",
    "# Webアプリなどのフロントエンド\n",
    "# デスクトップGUI\n",
    "# 速度向上などのための低レイヤー処理\n",
    "# 超大規模かつミッションクリティカルな処理\n",
    "\n",
    "# データサイエンティストの役割\n",
    "# モデルやアルゴリズム構築\n",
    "# 新たな解法や新技術への取り組み\n",
    "# 解決したい課題に向き合う実務\n",
    "# データとの向き合い方の提示\n",
    "# 分析結果の評価\n",
    "\n",
    "# 研究分野　新たな解法や新技術への取り組みが重視\n",
    "# 実務 解決したい課題に向き合う部分\n",
    "\n",
    "# データハンドリング(前処理)\n",
    "\n",
    "# 1\n",
    "# データサイエンティストの役割には、モデルやアルゴリズム構築、新たな解法や新技術への取り組み、解決したい課題に向き合う実務、分析結果の評価などがある。\n",
    "# データサイエンティストの役割は、研究分野と実務で多少の違いがある。研究分野においては、新たな解法や新技術への取り組みが重視され、実務においては、解決したい課題に向き合う部分が重視される。\n",
    "# データ分析に利用されるプログラミング言語には、Python、R、Julia、Excel Visual Basic for Applicationsなどがある。\n",
    "# Pythonでデータ分析に使われる主なパッケージには、Jupyter Notebook、NumPy、pandas、Matplotlib、Scipy、scikit-learnなどがある。"
   ]
  },
  {
   "cell_type": "code",
   "execution_count": 2,
   "metadata": {},
   "outputs": [],
   "source": [
    "# モデル\n",
    "# 大量のデータから、機械学習アルゴリズムによってデータの特性を見つけて予測などを行う計算式の塊\n",
    "\n",
    "# 機械学習以外の選択肢\n",
    "# ルールベース if文\n",
    "# 統計的な手法 \n",
    "\n",
    "# 教師あり学習 \n",
    "# 説明変数が目的変数をうまく予測するような、内部パラメータをコンピュータが求めること\n",
    "# 正解ラベル タスクとなる課題に対して目的となる値 →目的の値となるデータを持っていることが前提\n",
    "# 正解ラベル以外のデータを基に正解または正解に近い値を予測することができる方式を教師あり学習という\n",
    "# 目的変数 正解ラベルである目的データ\n",
    "# 説明変数(特徴量、特徴データ) 目的変数以外のデータは、目的を説明するためのデータとなる\n",
    "# 説明変数と目的変数の組み合わせが多いほど正解に近づくモデルになる\n",
    "\n",
    "# 教師あり学習は目的変数の種類により回帰と分類に分けられる\n",
    "# 回帰目的変数(正解ラベル)が連続値となる　Ex.売上予測,気温予測\n",
    "# 分類 目的変数がカテゴライズされているデータ(目的変数が連続値でない) Ex. 2値分類,動物の種類予測\n",
    "\n",
    "# 教師なし学習\n",
    "# 正解ラベルを用いない学習方法\n",
    "# クラスタリング 与えられたデータの中からグルーピングを行う。\n",
    "# 次元削減 大量なデータの種類(説明変数の次元数)をより少ないデータの種類(次元数)で言い表す方法\n",
    "　　　　　　　　　　　　　　　　　　# 主成分分析などの手法を用いる\n",
    "\n",
    "# 強化学習\n",
    "#　ブラックボックス的な環境の中で行動するエージェントが、報酬を最大化するような状態に応じた行動を学習していく手法\n",
    "\n",
    "# 機械学習の処理の手順\n",
    "# データ入手(Numpy, pandas)\n",
    "# データ加工(Numpy, pandas)\n",
    "# データ可視化(Matplotlib)\n",
    "# アルゴリズム選択(scikit-learn)\n",
    "# 学習プロセス(ハイパーパラメータの設定,各アルゴリズムの実行に必要なパラメータ,scikit-learn)\n",
    "# 精度評価(scikit-learn)\n",
    "# 試験運用\n",
    "# 結果利用\n",
    "\n",
    "# Numpy\n",
    "# 数値計算を行う,配列や行列を効率よく扱える\n",
    "\n",
    "# pandas\n",
    "# DataFrame構造(表形式の2次元データを柔軟に扱える)\n",
    "\n",
    "# Matplotlib\n",
    "# データの可視化\n",
    "\n",
    "# scikit-learn\n",
    "# 機械学習のアルゴリズムや評価用のツールが集まった\n",
    "\n",
    "# SciPy\n",
    "# 科学技術計算をサポートする\n",
    "\n",
    "# 2\n",
    "# 教師あり学習は、正解となるラベルデータが存在する場合に用いられる方式であり、そのラベルを目的変数という。"
   ]
  },
  {
   "cell_type": "code",
   "execution_count": 10,
   "metadata": {},
   "outputs": [],
   "source": [
    "# C2 Pythonと環境(5, 12.5%)\n",
    "# python3.6 -V\n",
    "# python3.6 -m venv venv-test\n",
    "# source venv-test/bin/activate\n",
    "# deactivate\n",
    "# rm -rf venv-test\n",
    "\n",
    "# pip install(==verion)\n",
    "# pip uninstall (-yオプションで確認なし)\n",
    "# pip install -U パッケージ\n",
    "# pip list(-oオプションで最新バージョンの有無を確認)\n",
    "# pip freeze > requirements.txt\n",
    "# pip install -r requirements.txt\n",
    "\n",
    "# コーディング規約はPEP 8\n",
    "# コードチェックとして'pycodestyle','flake8'\n",
    "\n",
    "# IPythonの機能\n",
    "# TABキーによる補完\n",
    "# 自動インデント\n",
    "# オブジェクトの後ろに?を付けると、オブジェクトの説明を表示\n",
    "# %ではじまるマジックコマンド\n",
    "# !によるシェルコマンドの実行\n",
    "\n",
    "# 3\n",
    "# pipコマンドは、The Python Package Index に公開されているPythonパッケージのインストールなどを行うユーティリティであり、パッケージをインストールするにはpip installコマンドを使用する。\n",
    "# AnacondaはAnaconda社が開発、配布しているPythonのディストリビューションであり、venv、pipとは異なる仮想環境の作成方法、パッケージ管理システムを採用している。\n",
    "# Pythonでは、シンプルで読みやすいコードが書けることを設計思想として文法が作られている。コードのブロック構造をカッコではなくインデントで表現するところにもその思想が表れている。\n",
    "# PythonにはPEP 8と呼ばれる標準となるコーディング規約が存在する。たとえば、複数のモジュールをインポートするときには、１行ずつインポートして書くべきとされている。"
   ]
  },
  {
   "cell_type": "code",
   "execution_count": 25,
   "metadata": {},
   "outputs": [
    {
     "data": {
      "text/plain": [
       "[4, 3, 4]"
      ]
     },
     "execution_count": 25,
     "metadata": {},
     "output_type": "execute_result"
    }
   ],
   "source": [
    "# 4\n",
    "names = ['spam', 'ham', 'eggs' ]\n",
    "# lens =[]\n",
    "# for name in names:\n",
    "#     lens.append(len(name))\n",
    "[len(name) for name in names] #文字列の長さのリストを作成"
   ]
  },
  {
   "cell_type": "code",
   "execution_count": 26,
   "metadata": {},
   "outputs": [
    {
     "data": {
      "text/plain": [
       "{3, 4}"
      ]
     },
     "execution_count": 26,
     "metadata": {},
     "output_type": "execute_result"
    }
   ],
   "source": [
    "{len(name) for name in names} #文字列の長さのセットを作成"
   ]
  },
  {
   "cell_type": "code",
   "execution_count": 27,
   "metadata": {},
   "outputs": [
    {
     "data": {
      "text/plain": [
       "{'spam': 4, 'ham': 3, 'eggs': 4}"
      ]
     },
     "execution_count": 27,
     "metadata": {},
     "output_type": "execute_result"
    }
   ],
   "source": [
    "{name: len(name) for name in names} #文字列とその長さの辞書を生成"
   ]
  },
  {
   "cell_type": "code",
   "execution_count": 8,
   "metadata": {},
   "outputs": [
    {
     "ename": "TypeError",
     "evalue": "'NoneType' object is not subscriptable",
     "output_type": "error",
     "traceback": [
      "\u001b[0;31m---------------------------------------------------------------------------\u001b[0m",
      "\u001b[0;31mTypeError\u001b[0m                                 Traceback (most recent call last)",
      "\u001b[0;32m<ipython-input-8-07e4e8733834>\u001b[0m in \u001b[0;36m<module>\u001b[0;34m\u001b[0m\n\u001b[1;32m      3\u001b[0m \u001b[0mprog\u001b[0m \u001b[0;34m=\u001b[0m \u001b[0mre\u001b[0m\u001b[0;34m.\u001b[0m\u001b[0mcompile\u001b[0m\u001b[0;34m(\u001b[0m\u001b[0;34m'Kus(a|u)n(a|o|k)g?i(saya|ro)?'\u001b[0m\u001b[0;34m,\u001b[0m \u001b[0mre\u001b[0m\u001b[0;34m.\u001b[0m\u001b[0mIGNORECASE\u001b[0m\u001b[0;34m)\u001b[0m\u001b[0;34m\u001b[0m\u001b[0;34m\u001b[0m\u001b[0m\n\u001b[1;32m      4\u001b[0m \u001b[0mret\u001b[0m \u001b[0;34m=\u001b[0m \u001b[0mprog\u001b[0m\u001b[0;34m.\u001b[0m\u001b[0msearch\u001b[0m\u001b[0;34m(\u001b[0m\u001b[0;34m'Kusunoki'\u001b[0m\u001b[0;34m)\u001b[0m\u001b[0;34m\u001b[0m\u001b[0;34m\u001b[0m\u001b[0m\n\u001b[0;32m----> 5\u001b[0;31m \u001b[0mprint\u001b[0m\u001b[0;34m(\u001b[0m\u001b[0mret\u001b[0m\u001b[0;34m[\u001b[0m\u001b[0;36m0\u001b[0m\u001b[0;34m]\u001b[0m\u001b[0;34m)\u001b[0m\u001b[0;34m\u001b[0m\u001b[0;34m\u001b[0m\u001b[0m\n\u001b[0m",
      "\u001b[0;31mTypeError\u001b[0m: 'NoneType' object is not subscriptable"
     ]
    }
   ],
   "source": [
    "# 5\n",
    "import re\n",
    "prog = re.compile('Kus(a|u)n(a|o|k)g?i(saya|ro)?', re.IGNORECASE)\n",
    "ret = prog.search('Kusunoki')\n",
    "print(ret[0])\n",
    "\n",
    "# 文字の集合 - []内のいずれか1文字にマッチ\n",
    "# OR（または） - A|BでAかBいずれかのパターンにマッチ\n",
    "# ? 直前のパターンを0回または1回繰り返し"
   ]
  },
  {
   "cell_type": "code",
   "execution_count": 9,
   "metadata": {},
   "outputs": [],
   "source": [
    "# 6\n",
    "# loggingモジュールはログレベルを指定して任意のファイルにフォーマットを指定してログの出力を行うことができ、たとえば、バッチ処理などの途中経過を出力する用途に用いる。\n",
    "# loggingモジュールのログレベルには、重要度の低い順にDEBUG、INFO、WARNING、ERROR、CRITICALの5つがある。\n",
    "# Pythonでファイルのパスを扱うにはpathlibモジュールが便利である。globメソッドではファイル名をワイルドカード(*)で指定することもできる。\n",
    "# 日付などの処理にはdatetimeモジュールが便利である。たとえば、過去の日付から今日の日付を差し引いて経過日数を計算することができる。"
   ]
  },
  {
   "cell_type": "code",
   "execution_count": null,
   "metadata": {},
   "outputs": [],
   "source": [
    "# pickleモジュール\n",
    "# Pythonオブジェクトを直列化してファイルなどで読み書きできるようになる。\n",
    "\n",
    "# pathlibモジュール\n",
    "# Pythonでファイルのパスを扱うのに便利"
   ]
  },
  {
   "cell_type": "code",
   "execution_count": 10,
   "metadata": {},
   "outputs": [],
   "source": [
    "# 7\n",
    "# Jupyter Notebookはオープンソースで開発されているデータ分析、可視化、機械学習などに広く利用されているWebアプリケーションである。\n",
    "# Notebookファイルは保存することができ、その拡張子は.ipynbである。\n",
    "# マジックコマンドは%または%%からはじまる特別なコマンドで、たとえば、プログラムの実行時間を複数回試行して計測を行うコマンドもある。\n",
    "# シェルコマンドはOSのコマンドを指定して実行することができる。たとえば、pip listコマンドを実行することもできる。"
   ]
  },
  {
   "cell_type": "code",
   "execution_count": 11,
   "metadata": {},
   "outputs": [],
   "source": [
    "# C3 数学の基礎 (6, 15.0%)\n",
    "\n",
    "# 積集合\n",
    "# 2つの集合の共通部分\n",
    "# 和集合\n",
    "# 全部\n",
    "\n",
    "# Σ(シグマ) 足し算の繰り返し\n",
    "# Π (パイ) 掛け算の繰り返し\n",
    "\n",
    "# e(ネイピア数=自然対数の底) e = 2.71828...\n",
    "\n",
    "# 指数関数\n",
    "# 関数の入力が別の数字の方に乗って使われる関数\n",
    "# シグモイド関数\n",
    "# xが大きな値になるとシグモイド関数の値は1に近づく\n",
    "# xが小さな値になるとシグモイド関数の値は0に近づく\n",
    "\n",
    "# 対数関数\n",
    "# 入力された値が、底の何乗に相当するかを出力する\n",
    "# 底がネイピア数の時を特に、自然対数絵を呼ぶ(ln)\n",
    "# 常用対数\n",
    "# 底が10の時\n",
    "\n",
    "# 三角関数\n",
    "# 水平方向にはcosθだけ進み、垂直方向にはsinθだけ進む\n",
    "# sin「サイン」=正弦\n",
    "# cos「コサイン」=余弦\n",
    "# tan「タンジェント」=正接\n",
    "\n",
    "# 8\n",
    "# 数式で、足し算の繰り返しを表す際にはギリシャ文字のシグマの大文字を用い、掛け算の繰り返しを表す際には、ギリシャ文字のパイの大文字を用いる。\n",
    "# 直径が1のときの円周の長さを円周率と呼び、自然対数の底をネイピア数と呼ぶ。両者とも小数点以下を四捨五入すると3になる。\n",
    "# 関数の入力が別の数字の肩に乗って使われる関数を指数関数と呼び、入力された値が底の何乗に相当するかという出力を行う関数を対数関数と呼ぶ。\n",
    "# 指数関数を応用した関数にシグモイド関数がある。シグモイド関数は、深層学習の基本的な技術であるニューラルネットワークでよく使われる。"
   ]
  },
  {
   "cell_type": "code",
   "execution_count": 12,
   "metadata": {},
   "outputs": [],
   "source": [
    "# ベクトル\n",
    "# 丸括弧で数をまとめて表現したもの　(4, 7)\n",
    "# スカラー\n",
    "# 単なる1つの数\n",
    "# ノルム(標準、基準)\n",
    "# ベクトルの大きさをスカラーで表現する場合\n",
    "\n",
    "# 9\n",
    "# ユークリッド距離=直線距離(絶対値の2乗の平方根)\n",
    "# マンハッタン距離=格子状の道路を進むイメージ\n",
    "# 内積(スカラー積)\n",
    "# ドットを使って表す。結果はスカラーになる。"
   ]
  },
  {
   "cell_type": "code",
   "execution_count": 7,
   "metadata": {},
   "outputs": [],
   "source": [
    "# 行列\n",
    "# 行方向と列方向の２方向の広がりを持って数を並べたものを行列(matrix)\n",
    "# 正方行列\n",
    "# 行と列のサイズが同じ行列\n",
    "# 単位行列\n",
    "# 対角成分が全て1であとが0\n",
    "\n",
    "# 10\n",
    "# ベクトルと同じように要素同士の足し算と引き算で、行列の足し算と引き算を定義することができるが、2つの行列の行数と列数が合っている必要がある。\n",
    "# 行列の列の数とベクトルのサイズが同じ場合は、これらの掛け算を定義することができ、結果は、元の行列の行数と同じサイズのベクトルになる。\n",
    "# 行列同士の掛け算は行列となる。数値の掛け算は順番を入れ替えても同じ結果となるが、行列の掛け算は順番を入れ替えると同じ結果になるとは限らない。\n",
    "# m×sの行列にs×nの行列を賭けると、m×nの行列になる。これを逆に考えると、データ分析や機械学習において、説明変数の次元数を削減することができる。"
   ]
  },
  {
   "cell_type": "code",
   "execution_count": null,
   "metadata": {},
   "outputs": [],
   "source": [
    "# 積分\n",
    "# 面積のこと\n",
    "# 定積分\n",
    "# 積分の範囲が決まっている場合\n",
    "# 不定積分\n",
    "# 積分の範囲が決まっていない場合\n",
    "\n",
    "# 微分\n",
    "# 傾きのこと\n",
    "# 偏微分\n",
    "# 多変数関数の微分"
   ]
  },
  {
   "cell_type": "code",
   "execution_count": 1,
   "metadata": {},
   "outputs": [],
   "source": [
    "# 分散\n",
    "# 全てのデータの平均値からのズレを２乗して、データの個数で割った値\n",
    "# 標準偏差\n",
    "# 分散の平方根\n",
    "# 相関係数 = ピアソンの積率相関係数\n",
    "# -1以上1以下の値を取る"
   ]
  },
  {
   "cell_type": "code",
   "execution_count": null,
   "metadata": {},
   "outputs": [],
   "source": [
    "# 条件付き確率=ベイズの定理\n",
    "# 確率質量関数\n",
    "# 確率変数が離散的な場合\n",
    "# 確率密度関数\n",
    "# 確率変数が連続的な場合\n",
    "\n",
    "# 正規分布\n",
    "# x=0で最も高い値、xから遠くなると値は小さくなる"
   ]
  }
 ],
 "metadata": {
  "kernelspec": {
   "display_name": "Python 3",
   "language": "python",
   "name": "python3"
  },
  "language_info": {
   "codemirror_mode": {
    "name": "ipython",
    "version": 3
   },
   "file_extension": ".py",
   "mimetype": "text/x-python",
   "name": "python",
   "nbconvert_exporter": "python",
   "pygments_lexer": "ipython3",
   "version": "3.7.6"
  }
 },
 "nbformat": 4,
 "nbformat_minor": 4
}
